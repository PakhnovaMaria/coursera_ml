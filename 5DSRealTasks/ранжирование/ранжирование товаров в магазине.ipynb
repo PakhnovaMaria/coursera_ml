{
 "cells": [
  {
   "cell_type": "code",
   "execution_count": 820,
   "metadata": {},
   "outputs": [],
   "source": [
    "import numpy as np\n",
    "import pandas as pd\n",
    "import matplotlib.pyplot as plt "
   ]
  },
  {
   "cell_type": "markdown",
   "metadata": {},
   "source": [
    "Описание задачи\n",
    "Небольшой интернет-магазин попросил вас добавить ранжирование товаров в блок \"Смотрели ранее\" - в нем теперь надо показывать не последние просмотренные пользователем товары, а те товары из просмотренных, которые он наиболее вероятно купит. Качество вашего решения будет оцениваться по количеству покупок в сравнении с прошлым решением в ходе А/В теста, т.к. по доходу от продаж статзначимость будет достигаться дольше из-за разброса цен. Таким образом, ничего заранее не зная про корреляцию оффлайновых и онлайновых метрик качества, в начале проекта вы можете лишь постараться оптимизировать recall@k и precision@k.\n",
    "\n",
    "Это задание посвящено построению простых бейзлайнов для этой задачи: ранжирование просмотренных товаров по частоте просмотров и по частоте покупок. Эти бейзлайны, с одной стороны, могут помочь вам грубо оценить возможный эффект от ранжирования товаров в блоке - например, чтобы вписать какие-то числа в коммерческое предложение заказчику, а с другой стороны, могут оказаться самым хорошим вариантом, если данных очень мало (недостаточно для обучения даже простых моделей).\n",
    "\n",
    "Входные данные\n",
    "\n",
    "Вам дается две выборки с пользовательскими сессиями - id-шниками просмотренных и id-шниками купленных товаров. Одна выборка будет использоваться для обучения (оценки популярностей товаров), а другая - для теста.\n",
    "\n",
    "В файлах записаны сессии по одной в каждой строке. Формат сессии: id просмотренных товаров через , затем идёт ; после чего следуют id купленных товаров (если такие имеются), разделённые запятой. Например, 1,2,3,4; или 1,2,3,4;5,6.\n",
    "\n",
    "Гарантируется, что среди id купленных товаров все различные."
   ]
  },
  {
   "cell_type": "markdown",
   "metadata": {},
   "source": [
    "1) считали данные"
   ]
  },
  {
   "cell_type": "code",
   "execution_count": 847,
   "metadata": {},
   "outputs": [],
   "source": [
    "train = pd.read_csv('coursera_sessions_train.txt', sep=';', header=None)\n",
    "train.columns = ['Viewed', 'Bought']\n",
    "\n",
    "test = pd.read_csv('coursera_sessions_test.txt', sep=';', header=None)\n",
    "test.columns = ['Viewed', 'Bought']"
   ]
  },
  {
   "cell_type": "markdown",
   "metadata": {},
   "source": [
    "# Train"
   ]
  },
  {
   "cell_type": "code",
   "execution_count": 848,
   "metadata": {},
   "outputs": [
    {
     "data": {
      "text/html": [
       "<div>\n",
       "<style scoped>\n",
       "    .dataframe tbody tr th:only-of-type {\n",
       "        vertical-align: middle;\n",
       "    }\n",
       "\n",
       "    .dataframe tbody tr th {\n",
       "        vertical-align: top;\n",
       "    }\n",
       "\n",
       "    .dataframe thead th {\n",
       "        text-align: right;\n",
       "    }\n",
       "</style>\n",
       "<table border=\"1\" class=\"dataframe\">\n",
       "  <thead>\n",
       "    <tr style=\"text-align: right;\">\n",
       "      <th></th>\n",
       "      <th>Viewed</th>\n",
       "      <th>Bought</th>\n",
       "    </tr>\n",
       "  </thead>\n",
       "  <tbody>\n",
       "    <tr>\n",
       "      <th>0</th>\n",
       "      <td>0,1,2,3,4,5</td>\n",
       "      <td>NaN</td>\n",
       "    </tr>\n",
       "    <tr>\n",
       "      <th>1</th>\n",
       "      <td>9,10,11,9,11,12,9,11</td>\n",
       "      <td>NaN</td>\n",
       "    </tr>\n",
       "    <tr>\n",
       "      <th>2</th>\n",
       "      <td>16,17,18,19,20,21</td>\n",
       "      <td>NaN</td>\n",
       "    </tr>\n",
       "    <tr>\n",
       "      <th>3</th>\n",
       "      <td>24,25,26,27,24</td>\n",
       "      <td>NaN</td>\n",
       "    </tr>\n",
       "    <tr>\n",
       "      <th>4</th>\n",
       "      <td>34,35,36,34,37,35,36,37,38,39,38,39</td>\n",
       "      <td>NaN</td>\n",
       "    </tr>\n",
       "  </tbody>\n",
       "</table>\n",
       "</div>"
      ],
      "text/plain": [
       "                                Viewed Bought\n",
       "0                          0,1,2,3,4,5    NaN\n",
       "1                 9,10,11,9,11,12,9,11    NaN\n",
       "2                    16,17,18,19,20,21    NaN\n",
       "3                       24,25,26,27,24    NaN\n",
       "4  34,35,36,34,37,35,36,37,38,39,38,39    NaN"
      ]
     },
     "execution_count": 848,
     "metadata": {},
     "output_type": "execute_result"
    }
   ],
   "source": [
    "train.head()"
   ]
  },
  {
   "cell_type": "markdown",
   "metadata": {},
   "source": [
    "Сессии, в которых пользователь ничего не купил, исключаем из оценки качества. Если товар не встречался в обучающей выборке, его популярность равна 0. Рекомендуем разные товары. И их число должно быть не больше, чем количество различных просмотренных пользователем товаров. Рекомендаций всегда не больше, чем минимум из двух чисел: количество просмотренных пользователем товаров и k в recall@k / precision@k."
   ]
  },
  {
   "cell_type": "markdown",
   "metadata": {},
   "source": [
    "\n",
    "\n",
    "Если частота одинаковая, то сортировать нужно по возрастанию момента просмотра (чем раньше появился в просмотренных, тем больше приоритет)"
   ]
  },
  {
   "cell_type": "markdown",
   "metadata": {},
   "source": [
    "2) посчитали частоты встреч"
   ]
  },
  {
   "cell_type": "code",
   "execution_count": 849,
   "metadata": {},
   "outputs": [],
   "source": [
    "viewed_frequences = pd.Series(','.join(train.Viewed.values).split(',')).value_counts()\n",
    "bought_frequences = pd.Series(','.join(train.Bought.dropna().values).split(',')).value_counts()"
   ]
  },
  {
   "cell_type": "markdown",
   "metadata": {},
   "source": [
    "3) товары, которые не куплены - куплены 0 раз"
   ]
  },
  {
   "cell_type": "code",
   "execution_count": 850,
   "metadata": {},
   "outputs": [],
   "source": [
    "bought_frequences = bought_frequences[viewed_frequences.index].fillna(0)"
   ]
  },
  {
   "cell_type": "code",
   "execution_count": 851,
   "metadata": {},
   "outputs": [],
   "source": [
    "train.dropna(inplace=True)"
   ]
  },
  {
   "cell_type": "markdown",
   "metadata": {},
   "source": [
    "Если частота одинаковая, то сортировать нужно по возрастанию момента просмотра (чем раньше появился в просмотренных, тем меньше приоритет)"
   ]
  },
  {
   "cell_type": "code",
   "execution_count": 852,
   "metadata": {},
   "outputs": [],
   "source": [
    "Viewed_sort = []\n",
    "Bought_sort = []\n",
    "#for i in train.Viewed.index:\n",
    "#for i in [7]:\n",
    "for i in train.Viewed.index:\n",
    "    temp_list = np.unique(train.Viewed[i].split(','))[::-1]\n",
    "    #print(viewed_frequences[temp_list])\n",
    "    Viewed_sort.append(sorted(temp_list, key=lambda x: viewed_frequences[x], reverse =True))\n",
    "    Bought_sort.append(sorted(temp_list, key=lambda x: bought_frequences[x], reverse =True))"
   ]
  },
  {
   "cell_type": "code",
   "execution_count": 853,
   "metadata": {},
   "outputs": [],
   "source": [
    "train['Viewed_sort'] = Viewed_sort\n",
    "train['Bought_sort'] = Bought_sort"
   ]
  },
  {
   "cell_type": "code",
   "execution_count": 854,
   "metadata": {},
   "outputs": [
    {
     "data": {
      "text/html": [
       "<div>\n",
       "<style scoped>\n",
       "    .dataframe tbody tr th:only-of-type {\n",
       "        vertical-align: middle;\n",
       "    }\n",
       "\n",
       "    .dataframe tbody tr th {\n",
       "        vertical-align: top;\n",
       "    }\n",
       "\n",
       "    .dataframe thead th {\n",
       "        text-align: right;\n",
       "    }\n",
       "</style>\n",
       "<table border=\"1\" class=\"dataframe\">\n",
       "  <thead>\n",
       "    <tr style=\"text-align: right;\">\n",
       "      <th></th>\n",
       "      <th>Viewed</th>\n",
       "      <th>Bought</th>\n",
       "      <th>Viewed_sort</th>\n",
       "      <th>Bought_sort</th>\n",
       "    </tr>\n",
       "  </thead>\n",
       "  <tbody>\n",
       "    <tr>\n",
       "      <th>7</th>\n",
       "      <td>59,60,61,62,60,63,64,65,66,61,67,68,67</td>\n",
       "      <td>67,60,63</td>\n",
       "      <td>[63, 64, 68, 67, 66, 65, 61, 60, 62, 59]</td>\n",
       "      <td>[67, 63, 60, 68, 66, 65, 64, 62, 61, 59]</td>\n",
       "    </tr>\n",
       "    <tr>\n",
       "      <th>10</th>\n",
       "      <td>84,85,86,87,88,89,84,90,91,92,93,86</td>\n",
       "      <td>86</td>\n",
       "      <td>[85, 93, 89, 90, 92, 84, 86, 87, 91, 88]</td>\n",
       "      <td>[86, 93, 85, 92, 91, 90, 89, 88, 87, 84]</td>\n",
       "    </tr>\n",
       "    <tr>\n",
       "      <th>19</th>\n",
       "      <td>138,198,199,127</td>\n",
       "      <td>199</td>\n",
       "      <td>[127, 138, 198, 199]</td>\n",
       "      <td>[199, 138, 127, 198]</td>\n",
       "    </tr>\n",
       "    <tr>\n",
       "      <th>30</th>\n",
       "      <td>303,304,305,306,307,308,309,310,311,312</td>\n",
       "      <td>303</td>\n",
       "      <td>[303, 306, 310, 309, 307, 304, 312, 311, 308, ...</td>\n",
       "      <td>[303, 312, 311, 310, 309, 308, 307, 306, 305, ...</td>\n",
       "    </tr>\n",
       "    <tr>\n",
       "      <th>33</th>\n",
       "      <td>352,353,352</td>\n",
       "      <td>352</td>\n",
       "      <td>[352, 353]</td>\n",
       "      <td>[352, 353]</td>\n",
       "    </tr>\n",
       "  </tbody>\n",
       "</table>\n",
       "</div>"
      ],
      "text/plain": [
       "                                     Viewed    Bought  \\\n",
       "7    59,60,61,62,60,63,64,65,66,61,67,68,67  67,60,63   \n",
       "10      84,85,86,87,88,89,84,90,91,92,93,86        86   \n",
       "19                          138,198,199,127       199   \n",
       "30  303,304,305,306,307,308,309,310,311,312       303   \n",
       "33                              352,353,352       352   \n",
       "\n",
       "                                          Viewed_sort  \\\n",
       "7            [63, 64, 68, 67, 66, 65, 61, 60, 62, 59]   \n",
       "10           [85, 93, 89, 90, 92, 84, 86, 87, 91, 88]   \n",
       "19                               [127, 138, 198, 199]   \n",
       "30  [303, 306, 310, 309, 307, 304, 312, 311, 308, ...   \n",
       "33                                         [352, 353]   \n",
       "\n",
       "                                          Bought_sort  \n",
       "7            [67, 63, 60, 68, 66, 65, 64, 62, 61, 59]  \n",
       "10           [86, 93, 85, 92, 91, 90, 89, 88, 87, 84]  \n",
       "19                               [199, 138, 127, 198]  \n",
       "30  [303, 312, 311, 310, 309, 308, 307, 306, 305, ...  \n",
       "33                                         [352, 353]  "
      ]
     },
     "execution_count": 854,
     "metadata": {},
     "output_type": "execute_result"
    }
   ],
   "source": [
    "train.head()"
   ]
  },
  {
   "cell_type": "code",
   "execution_count": 855,
   "metadata": {},
   "outputs": [],
   "source": [
    "def count_precision(temp_bought, recommend, n = 1):\n",
    "    count = 0\n",
    "    for i in range(len(recommend)):\n",
    "        for j in range(len(temp_bought)):\n",
    "            #print(recommend[i], temp_bought[j])\n",
    "            if recommend[i] == temp_bought[j]:\n",
    "                #print(recommend[i], temp_bought[j])\n",
    "                count += 1\n",
    "    #print(temp_bought, recommend,count/len(recommend))\n",
    "    return(count/n)"
   ]
  },
  {
   "cell_type": "code",
   "execution_count": 856,
   "metadata": {},
   "outputs": [],
   "source": [
    "def count_recall(temp_bought, recommend):\n",
    "    count = 0\n",
    "    for i in range(len(recommend)):\n",
    "        for j in range(len(temp_bought)):\n",
    "            if recommend[i] == temp_bought[j]:\n",
    "                count += 1\n",
    "    return(count/len(temp_bought))"
   ]
  },
  {
   "cell_type": "code",
   "execution_count": 857,
   "metadata": {},
   "outputs": [
    {
     "data": {
      "text/plain": [
       "Int64Index([    7,    10,    19,    30,    33,    55,    64,    72,    89,\n",
       "               93,\n",
       "            ...\n",
       "            49883, 49890, 49896, 49908, 49932, 49943, 49964, 49981, 49991,\n",
       "            49995],\n",
       "           dtype='int64', length=3608)"
      ]
     },
     "execution_count": 857,
     "metadata": {},
     "output_type": "execute_result"
    }
   ],
   "source": [
    "train.index"
   ]
  },
  {
   "cell_type": "code",
   "execution_count": 858,
   "metadata": {},
   "outputs": [],
   "source": [
    "viewed_presision_5 = []\n",
    "viewed_recall_5 = []\n",
    "viewed_presision_1 = []\n",
    "viewed_recall_1 = []\n",
    "bought_presision_5 = []\n",
    "bought_recall_5 = []\n",
    "bought_presision_1 = []\n",
    "bought_recall_1 = []\n",
    "\n",
    "for i in train.index:\n",
    "    viewed_presision_5.append(count_precision(train.Bought[i].split(','), train.Viewed_sort[i][:5], 5))\n",
    "    viewed_presision_1.append(count_precision(train.Bought[i].split(','), train.Viewed_sort[i][:1]))\n",
    "    viewed_recall_5.append(count_recall(train.Bought[i].split(','), train.Viewed_sort[i][:5]))\n",
    "    viewed_recall_1.append(count_recall(train.Bought[i].split(','), train.Viewed_sort[i][:1]))\n",
    "\n",
    "    bought_presision_5.append(count_precision(train.Bought[i].split(','), train.Bought_sort[i][:5], 5))\n",
    "    bought_presision_1.append(count_precision(train.Bought[i].split(','), train.Bought_sort[i][:1]))\n",
    "    bought_recall_5.append(count_recall(train.Bought[i].split(','), train.Bought_sort[i][:5]))\n",
    "    bought_recall_1.append(count_recall(train.Bought[i].split(','), train.Bought_sort[i][:1]))"
   ]
  },
  {
   "cell_type": "code",
   "execution_count": 859,
   "metadata": {},
   "outputs": [],
   "source": [
    "def write_to_file(List, name_file):\n",
    "    file = open(name_file,'w')\n",
    "    file.write(str(round(List[0],2))+ ' '+ str(round(List[1],2)) + ' ' + str(round(List[2],2)) +' ' + str(round(List[3],2)))\n",
    "    file.close()"
   ]
  },
  {
   "cell_type": "code",
   "execution_count": 860,
   "metadata": {},
   "outputs": [
    {
     "name": "stdout",
     "output_type": "stream",
     "text": [
      "recall_1, precision_1, recall_5, precision_5\n",
      "train_viewed\n",
      "[0.44 0.51 0.82 0.21]\n",
      "train_bought\n",
      "[0.68 0.79 0.93 0.25]\n"
     ]
    }
   ],
   "source": [
    "List = []\n",
    "print('recall_1, precision_1, recall_5, precision_5')\n",
    "List.append(np.mean(np.array(viewed_recall_1)))\n",
    "List.append(np.mean(np.array(viewed_presision_1)))\n",
    "List.append(np.mean(np.array(viewed_recall_5)))\n",
    "List.append(np.mean(np.array(viewed_presision_5)))\n",
    "write_to_file(List, 'train_viewed.txt')\n",
    "print('train_viewed')\n",
    "print(np.round(np.array(List),2))\n",
    "\n",
    "List = []\n",
    "List.append(np.mean(np.array(bought_recall_1)))\n",
    "List.append(np.mean(np.array(bought_presision_1)))\n",
    "List.append(np.mean(np.array(bought_recall_5)))\n",
    "List.append(np.mean(np.array(bought_presision_5)))\n",
    "write_to_file(List, 'train_bought.txt')\n",
    "#print(List)\n",
    "print('train_bought')\n",
    "print(np.round(np.array(List),2))"
   ]
  },
  {
   "cell_type": "code",
   "execution_count": null,
   "metadata": {},
   "outputs": [],
   "source": []
  },
  {
   "cell_type": "markdown",
   "metadata": {},
   "source": [
    "# Test"
   ]
  },
  {
   "cell_type": "code",
   "execution_count": 862,
   "metadata": {},
   "outputs": [],
   "source": [
    "test.dropna(inplace=True)"
   ]
  },
  {
   "cell_type": "code",
   "execution_count": 863,
   "metadata": {},
   "outputs": [],
   "source": [
    "viewed_frequences_test = pd.Series(','.join(test.Viewed.values).split(',')).value_counts()"
   ]
  },
  {
   "cell_type": "code",
   "execution_count": 864,
   "metadata": {},
   "outputs": [],
   "source": [
    "new_viewed_frequences_test = viewed_frequences[viewed_frequences_test.index].fillna(0)\n",
    "new_bought_frequences_test  = bought_frequences[viewed_frequences_test.index].fillna(0)"
   ]
  },
  {
   "cell_type": "code",
   "execution_count": 865,
   "metadata": {},
   "outputs": [],
   "source": [
    "Viewed_sort_test = []\n",
    "Bought_sort_test = []\n",
    "#for i in train.Viewed.index:\n",
    "#for i in [7]:\n",
    "for i in test.Viewed.index:\n",
    "    temp_list = np.unique(test.Viewed[i].split(','))[::-1]\n",
    "    #print(viewed_frequences[temp_list])\n",
    "    Viewed_sort_test.append(sorted(temp_list, key=lambda x: new_viewed_frequences_test[x], reverse =True))\n",
    "    Bought_sort_test.append(sorted(temp_list, key=lambda x: new_bought_frequences_test[x], reverse =True))"
   ]
  },
  {
   "cell_type": "code",
   "execution_count": 866,
   "metadata": {},
   "outputs": [],
   "source": [
    "test['Viewed_sort'] = Viewed_sort_test\n",
    "test['Bought_sort'] = Bought_sort_test"
   ]
  },
  {
   "cell_type": "code",
   "execution_count": 867,
   "metadata": {},
   "outputs": [
    {
     "data": {
      "text/html": [
       "<div>\n",
       "<style scoped>\n",
       "    .dataframe tbody tr th:only-of-type {\n",
       "        vertical-align: middle;\n",
       "    }\n",
       "\n",
       "    .dataframe tbody tr th {\n",
       "        vertical-align: top;\n",
       "    }\n",
       "\n",
       "    .dataframe thead th {\n",
       "        text-align: right;\n",
       "    }\n",
       "</style>\n",
       "<table border=\"1\" class=\"dataframe\">\n",
       "  <thead>\n",
       "    <tr style=\"text-align: right;\">\n",
       "      <th></th>\n",
       "      <th>Viewed</th>\n",
       "      <th>Bought</th>\n",
       "      <th>Viewed_sort</th>\n",
       "      <th>Bought_sort</th>\n",
       "    </tr>\n",
       "  </thead>\n",
       "  <tbody>\n",
       "    <tr>\n",
       "      <th>7</th>\n",
       "      <td>63,68,69,70,66,61,59,61,66,68</td>\n",
       "      <td>66,63</td>\n",
       "      <td>[63, 68, 66, 61, 59, 70, 69]</td>\n",
       "      <td>[63, 70, 69, 68, 66, 61, 59]</td>\n",
       "    </tr>\n",
       "    <tr>\n",
       "      <th>14</th>\n",
       "      <td>158,159,160,159,161,162</td>\n",
       "      <td>162</td>\n",
       "      <td>[158, 162, 160, 159, 161]</td>\n",
       "      <td>[158, 162, 160, 161, 159]</td>\n",
       "    </tr>\n",
       "    <tr>\n",
       "      <th>19</th>\n",
       "      <td>200,201,202,203,204</td>\n",
       "      <td>201,205</td>\n",
       "      <td>[204, 202, 203, 200, 201]</td>\n",
       "      <td>[204, 202, 203, 201, 200]</td>\n",
       "    </tr>\n",
       "    <tr>\n",
       "      <th>34</th>\n",
       "      <td>371,372,371</td>\n",
       "      <td>371,373</td>\n",
       "      <td>[371, 372]</td>\n",
       "      <td>[372, 371]</td>\n",
       "    </tr>\n",
       "    <tr>\n",
       "      <th>40</th>\n",
       "      <td>422</td>\n",
       "      <td>422</td>\n",
       "      <td>[422]</td>\n",
       "      <td>[422]</td>\n",
       "    </tr>\n",
       "  </tbody>\n",
       "</table>\n",
       "</div>"
      ],
      "text/plain": [
       "                           Viewed   Bought                   Viewed_sort  \\\n",
       "7   63,68,69,70,66,61,59,61,66,68    66,63  [63, 68, 66, 61, 59, 70, 69]   \n",
       "14        158,159,160,159,161,162      162     [158, 162, 160, 159, 161]   \n",
       "19            200,201,202,203,204  201,205     [204, 202, 203, 200, 201]   \n",
       "34                    371,372,371  371,373                    [371, 372]   \n",
       "40                            422      422                         [422]   \n",
       "\n",
       "                     Bought_sort  \n",
       "7   [63, 70, 69, 68, 66, 61, 59]  \n",
       "14     [158, 162, 160, 161, 159]  \n",
       "19     [204, 202, 203, 201, 200]  \n",
       "34                    [372, 371]  \n",
       "40                         [422]  "
      ]
     },
     "execution_count": 867,
     "metadata": {},
     "output_type": "execute_result"
    }
   ],
   "source": [
    "test.head()"
   ]
  },
  {
   "cell_type": "code",
   "execution_count": 868,
   "metadata": {},
   "outputs": [],
   "source": [
    "viewed_presision_5 = []\n",
    "viewed_recall_5 = []\n",
    "viewed_presision_1 = []\n",
    "viewed_recall_1 = []\n",
    "bought_presision_5 = []\n",
    "bought_recall_5 = []\n",
    "bought_presision_1 = []\n",
    "bought_recall_1 = []\n",
    "\n",
    "for i in test.index:\n",
    "    viewed_presision_5.append(count_precision(test.Bought[i].split(','), test.Viewed_sort[i][:5], 5))\n",
    "    viewed_presision_1.append(count_precision(test.Bought[i].split(','), test.Viewed_sort[i][:1]))\n",
    "    viewed_recall_5.append(count_recall(test.Bought[i].split(','), test.Viewed_sort[i][:5]))\n",
    "    viewed_recall_1.append(count_recall(test.Bought[i].split(','), test.Viewed_sort[i][:1]))\n",
    "\n",
    "    bought_presision_5.append(count_precision(test.Bought[i].split(','), test.Bought_sort[i][:5], 5))\n",
    "    bought_presision_1.append(count_precision(test.Bought[i].split(','), test.Bought_sort[i][:1]))\n",
    "    bought_recall_5.append(count_recall(test.Bought[i].split(','), test.Bought_sort[i][:5]))\n",
    "    bought_recall_1.append(count_recall(test.Bought[i].split(','), test.Bought_sort[i][:1]))"
   ]
  },
  {
   "cell_type": "code",
   "execution_count": 869,
   "metadata": {},
   "outputs": [
    {
     "name": "stdout",
     "output_type": "stream",
     "text": [
      "recall_1, precision_1, recall_5, precision_5\n",
      "test_viewed\n",
      "[0.41 0.48 0.8  0.2 ]\n",
      "test_bought\n",
      "[0.41 0.47 0.79 0.2 ]\n"
     ]
    }
   ],
   "source": [
    "List = []\n",
    "print('recall_1, precision_1, recall_5, precision_5')\n",
    "List.append(np.mean(np.array(viewed_recall_1)))\n",
    "List.append(np.mean(np.array(viewed_presision_1)))\n",
    "List.append(np.mean(np.array(viewed_recall_5)))\n",
    "List.append(np.mean(np.array(viewed_presision_5)))\n",
    "write_to_file(List, 'test_viewed.txt')\n",
    "print('test_viewed')\n",
    "print(np.round(np.array(List),2))\n",
    "\n",
    "List = []\n",
    "List.append(np.mean(np.array(bought_recall_1)))\n",
    "List.append(np.mean(np.array(bought_presision_1)))\n",
    "List.append(np.mean(np.array(bought_recall_5)))\n",
    "List.append(np.mean(np.array(bought_presision_5)))\n",
    "write_to_file(List, 'test_bought.txt')\n",
    "#print(List)\n",
    "print('test_bought')\n",
    "print(np.round(np.array(List),2))"
   ]
  },
  {
   "cell_type": "code",
   "execution_count": null,
   "metadata": {},
   "outputs": [],
   "source": []
  }
 ],
 "metadata": {
  "kernelspec": {
   "display_name": "Python 3",
   "language": "python",
   "name": "python3"
  },
  "language_info": {
   "codemirror_mode": {
    "name": "ipython",
    "version": 3
   },
   "file_extension": ".py",
   "mimetype": "text/x-python",
   "name": "python",
   "nbconvert_exporter": "python",
   "pygments_lexer": "ipython3",
   "version": "3.7.5"
  }
 },
 "nbformat": 4,
 "nbformat_minor": 2
}
