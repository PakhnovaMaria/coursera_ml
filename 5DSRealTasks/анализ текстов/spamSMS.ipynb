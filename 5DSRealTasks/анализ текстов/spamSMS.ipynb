{
 "cells": [
  {
   "cell_type": "code",
   "execution_count": 51,
   "metadata": {},
   "outputs": [],
   "source": [
    "import pandas as pd\n",
    "import numpy as np\n",
    "from sklearn.feature_extraction.text import CountVectorizer, TfidfVectorizer\n",
    "from sklearn.linear_model import LogisticRegression\n",
    "from sklearn.model_selection import cross_val_score\n",
    "import random\n",
    "import warnings\n",
    "warnings.filterwarnings(\"ignore\", category=FutureWarning)\n",
    "from sklearn.naive_bayes import MultinomialNB"
   ]
  },
  {
   "cell_type": "code",
   "execution_count": 46,
   "metadata": {},
   "outputs": [],
   "source": [
    "file = open('SMSSpamCollection.txt', 'r',  encoding='utf-8')\n",
    "A = file.readlines()\n",
    "\n",
    "Texts = []\n",
    "Labels = []\n",
    "for i in range(len(A)):\n",
    "    if A[i][0] == 'h':\n",
    "        Texts.append(A[i][4:-1])\n",
    "        Labels.append(0)\n",
    "    else: \n",
    "        Texts.append(A[i][5:-1])\n",
    "        Labels.append(1)"
   ]
  },
  {
   "cell_type": "code",
   "execution_count": 47,
   "metadata": {},
   "outputs": [
    {
     "data": {
      "text/plain": [
       "0.9333485268579415"
      ]
     },
     "execution_count": 47,
     "metadata": {},
     "output_type": "execute_result"
    }
   ],
   "source": [
    "v = CountVectorizer()\n",
    "mx = v.fit_transform(np.array(Texts)).toarray()\n",
    "random.seed(2)\n",
    "reg = LogisticRegression()\n",
    "cross_val_score(reg, mx, Labels, cv = 10, scoring = 'f1').mean()"
   ]
  },
  {
   "cell_type": "code",
   "execution_count": 48,
   "metadata": {},
   "outputs": [
    {
     "data": {
      "text/plain": [
       "array([1, 1, 0, 0, 0])"
      ]
     },
     "execution_count": 48,
     "metadata": {},
     "output_type": "execute_result"
    }
   ],
   "source": [
    "List = ['FreeMsg: Txt: CALL to No: 86888 & claim your reward of 3 hours talk time to use from your phone now! Subscribe6GB',\n",
    "'FreeMsg: Txt: claim your reward of 3 hours talk time',\n",
    "'Have you visited the last lecture on physics?','Have you visited the last lecture on physics? Just buy this book and you will have all materials! Only 99$',\n",
    "'Only 99$']\n",
    "mx_pred  = v.fit_transform(np.array(Texts+List)).toarray()\n",
    "reg.fit(mx_pred[:-5], Labels)\n",
    "reg.predict(mx_pred[-5:])"
   ]
  },
  {
   "cell_type": "markdown",
   "metadata": {},
   "source": [
    "Первые примеры содержат характерные для нашей выборки слова и верно относятся к спаму. Следующие примеры менее характерны."
   ]
  },
  {
   "cell_type": "code",
   "execution_count": 49,
   "metadata": {},
   "outputs": [
    {
     "name": "stdout",
     "output_type": "stream",
     "text": [
      "0.8224220664187133\n",
      "0.7250161555467377\n",
      "0.9251382558648837\n"
     ]
    }
   ],
   "source": [
    "v1 = CountVectorizer(ngram_range=(2,2))\n",
    "mx = v1.fit_transform(np.array(Texts)).toarray()\n",
    "print(cross_val_score(reg, mx, Labels, cv = 10, scoring = 'f1').mean())\n",
    "\n",
    "v2 = CountVectorizer(ngram_range=(3,3))\n",
    "mx = v2.fit_transform(np.array(Texts)).toarray()\n",
    "print(cross_val_score(reg, mx, Labels, cv = 10, scoring = 'f1').mean())\n",
    "\n",
    "v3 = CountVectorizer(ngram_range=(1,3))\n",
    "mx = v3.fit_transform(np.array(Texts)).toarray()\n",
    "print(cross_val_score(reg, mx, Labels, cv = 10, scoring = 'f1').mean())"
   ]
  },
  {
   "cell_type": "markdown",
   "metadata": {},
   "source": [
    "Обратили внимание, что статистики по биграммам и триграммам намного меньше, поэтому классификатор только на них работает хуже. В то же время это не ухудшает результат сколько-нибудь существенно, если добавлять их вместе с униграммами, т.к. за счет регуляризации линейный классификатор не склонен сильно переобучаться на этих признаках."
   ]
  },
  {
   "cell_type": "code",
   "execution_count": 52,
   "metadata": {},
   "outputs": [
    {
     "name": "stdout",
     "output_type": "stream",
     "text": [
      "0.65\n",
      "0.38\n",
      "0.89\n"
     ]
    }
   ],
   "source": [
    "reg = MultinomialNB()\n",
    "\n",
    "v1 = CountVectorizer(ngram_range=(2,2))\n",
    "mx = v1.fit_transform(np.array(Texts)).toarray()\n",
    "print(round(cross_val_score(reg, mx, Labels, cv = 10, scoring = 'f1').mean(),2))\n",
    "\n",
    "v2 = CountVectorizer(ngram_range=(3,3))\n",
    "mx = v2.fit_transform(np.array(Texts)).toarray()\n",
    "print(round(cross_val_score(reg, mx, Labels, cv = 10, scoring = 'f1').mean(),2))\n",
    "\n",
    "v3 = CountVectorizer(ngram_range=(1,3))\n",
    "mx = v3.fit_transform(np.array(Texts)).toarray()\n",
    "print(round(cross_val_score(reg, mx, Labels, cv = 10, scoring = 'f1').mean(),2))"
   ]
  },
  {
   "cell_type": "markdown",
   "metadata": {},
   "source": [
    "Наивный Байес страдает сильнее от нехватки статистики по биграммам и триграммам."
   ]
  },
  {
   "cell_type": "code",
   "execution_count": 54,
   "metadata": {},
   "outputs": [
    {
     "name": "stdout",
     "output_type": "stream",
     "text": [
      "0.85\n"
     ]
    }
   ],
   "source": [
    "reg = LogisticRegression()\n",
    "\n",
    "v = TfidfVectorizer()\n",
    "mx = v.fit_transform(np.array(Texts)).toarray()\n",
    "print(round(cross_val_score(reg, mx, Labels, cv = 10, scoring = 'f1').mean(),2))"
   ]
  },
  {
   "cell_type": "markdown",
   "metadata": {},
   "source": [
    "Качество понизилось по сравнению с кросс-валидацией CountVectorizer на униграммах"
   ]
  },
  {
   "cell_type": "code",
   "execution_count": null,
   "metadata": {},
   "outputs": [],
   "source": []
  }
 ],
 "metadata": {
  "kernelspec": {
   "display_name": "Python 3",
   "language": "python",
   "name": "python3"
  },
  "language_info": {
   "codemirror_mode": {
    "name": "ipython",
    "version": 3
   },
   "file_extension": ".py",
   "mimetype": "text/x-python",
   "name": "python",
   "nbconvert_exporter": "python",
   "pygments_lexer": "ipython3",
   "version": "3.7.5"
  }
 },
 "nbformat": 4,
 "nbformat_minor": 2
}
