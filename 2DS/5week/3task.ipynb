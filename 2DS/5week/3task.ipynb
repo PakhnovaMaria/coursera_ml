{
 "cells": [
  {
   "cell_type": "code",
   "execution_count": 1,
   "metadata": {},
   "outputs": [],
   "source": [
    "from sklearn import ensemble, model_selection, metrics, datasets, tree\n",
    "\n",
    "import numpy as np\n",
    "import pandas as pd\n",
    "import xgboost as xgb\n",
    "\n",
    "from sklearn.model_selection import train_test_split\n",
    "\n",
    "import warnings\n",
    "from sklearn.exceptions import DataConversionWarning"
   ]
  },
  {
   "cell_type": "code",
   "execution_count": 2,
   "metadata": {},
   "outputs": [],
   "source": [
    "from sklearn.datasets import load_digits\n",
    "\n",
    "X_digits = pd.DataFrame(load_digits().data)\n",
    "y_digits = pd.DataFrame(load_digits().target)"
   ]
  },
  {
   "cell_type": "code",
   "execution_count": 3,
   "metadata": {},
   "outputs": [
    {
     "name": "stdout",
     "output_type": "stream",
     "text": [
      "449\n",
      "       0    1     2     3     4     5    6    7    8     9   ...    54   55  \\\n",
      "1348  0.0  0.0  12.0  16.0  16.0   5.0  0.0  0.0  0.0   3.0  ...   0.0  0.0   \n",
      "1349  0.0  0.0   5.0  15.0  16.0  15.0  1.0  0.0  0.0  10.0  ...  12.0  0.0   \n",
      "1350  0.0  0.0  10.0  16.0  16.0  10.0  1.0  0.0  0.0   4.0  ...  15.0  1.0   \n",
      "1351  0.0  0.0   0.0   1.0  13.0   7.0  0.0  0.0  0.0   0.0  ...   0.0  0.0   \n",
      "1352  0.0  0.0   0.0  14.0  14.0   1.0  0.0  0.0  0.0   0.0  ...   7.0  0.0   \n",
      "...   ...  ...   ...   ...   ...   ...  ...  ...  ...   ...  ...   ...  ...   \n",
      "1792  0.0  0.0   4.0  10.0  13.0   6.0  0.0  0.0  0.0   1.0  ...   4.0  0.0   \n",
      "1793  0.0  0.0   6.0  16.0  13.0  11.0  1.0  0.0  0.0   0.0  ...   1.0  0.0   \n",
      "1794  0.0  0.0   1.0  11.0  15.0   1.0  0.0  0.0  0.0   0.0  ...   0.0  0.0   \n",
      "1795  0.0  0.0   2.0  10.0   7.0   0.0  0.0  0.0  0.0   0.0  ...   2.0  0.0   \n",
      "1796  0.0  0.0  10.0  14.0   8.0   1.0  0.0  0.0  0.0   2.0  ...   8.0  0.0   \n",
      "\n",
      "       56   57    58    59    60    61   62   63  \n",
      "1348  0.0  0.0  13.0  10.0   0.0   0.0  0.0  0.0  \n",
      "1349  0.0  0.0   5.0  15.0  16.0  14.0  3.0  0.0  \n",
      "1350  0.0  0.0  11.0  16.0  16.0  15.0  4.0  0.0  \n",
      "1351  0.0  0.0   0.0   0.0  16.0   9.0  0.0  0.0  \n",
      "1352  0.0  0.0   0.0  14.0  16.0  14.0  0.0  0.0  \n",
      "...   ...  ...   ...   ...   ...   ...  ...  ...  \n",
      "1792  0.0  0.0   2.0  14.0  15.0   9.0  0.0  0.0  \n",
      "1793  0.0  0.0   6.0  16.0  14.0   6.0  0.0  0.0  \n",
      "1794  0.0  0.0   2.0   9.0  13.0   6.0  0.0  0.0  \n",
      "1795  0.0  0.0   5.0  12.0  16.0  12.0  0.0  0.0  \n",
      "1796  0.0  1.0   8.0  12.0  14.0  12.0  1.0  0.0  \n",
      "\n",
      "[449 rows x 64 columns]\n"
     ]
    }
   ],
   "source": [
    "n_split = np.int(np.round(y_digits.shape[0]*0.75))\n",
    "X_train = X_digits[:n_split]\n",
    "y_train = y_digits[:n_split]\n",
    "X_test = pd.DataFrame(X_digits[n_split:])\n",
    "y_test = y_digits[n_split:]\n",
    "print(X_test.shape[0])\n",
    "print(X_test)"
   ]
  },
  {
   "cell_type": "code",
   "execution_count": 28,
   "metadata": {},
   "outputs": [
    {
     "name": "stdout",
     "output_type": "stream",
     "text": [
      "0.03786191536748329\n"
     ]
    },
    {
     "name": "stderr",
     "output_type": "stream",
     "text": [
      "c:\\users\\mi\\appdata\\local\\programs\\python\\python37\\lib\\site-packages\\ipykernel_launcher.py:4: DataConversionWarning: A column-vector y was passed when a 1d array was expected. Please change the shape of y to (n_samples, ), for example using ravel().\n",
      "  after removing the cwd from sys.path.\n"
     ]
    }
   ],
   "source": [
    "from sklearn.neighbors import KNeighborsClassifier \n",
    "\n",
    "cl =KNeighborsClassifier(n_neighbors=1, weights='uniform', algorithm='auto', p=2, metric='minkowski')\n",
    "cl.fit(X_train, y_train)\n",
    "y_pred = cl.predict(X_test)\n",
    "acuracy = metrics.accuracy_score(y_test, y_pred)\n",
    "print(1 - acuracy)"
   ]
  },
  {
   "cell_type": "code",
   "execution_count": 29,
   "metadata": {},
   "outputs": [
    {
     "name": "stdout",
     "output_type": "stream",
     "text": [
      "0.0378619153674833\n"
     ]
    }
   ],
   "source": [
    "def determine_knn(x, X_train, y_train):\n",
    "    Dist = ((X_train - x) ** 2).sum(axis = 1)\n",
    "    #print('Dist', np.array(Dist))\n",
    "    ind = np.argmin(np.array(Dist))\n",
    "    #print('Index=', ind)\n",
    "    #print('y', y_train[[ind]])\n",
    "    return y_train[[ind]]\n",
    "\n",
    "predictions = []\n",
    "for i in range(X_test.shape[0]):\n",
    "    x = X_test.iloc[[i]]\n",
    "    predictions.append(determine_knn(np.array(x), np.array(X_train), np.array(y_train)))\n",
    "    \n",
    "np_y_test = np.array(y_test)\n",
    "np_predictions = np.array(predictions)\n",
    "count = 0\n",
    "for i in range(len(np_y_test)):\n",
    "    if np_y_test[i] != np_predictions[i]:\n",
    "        count +=1\n",
    "print(count/len(np_y_test))"
   ]
  },
  {
   "cell_type": "code",
   "execution_count": 8,
   "metadata": {},
   "outputs": [
    {
     "name": "stderr",
     "output_type": "stream",
     "text": [
      "c:\\users\\mi\\appdata\\local\\programs\\python\\python37\\lib\\site-packages\\ipykernel_launcher.py:4: DataConversionWarning: A column-vector y was passed when a 1d array was expected. Please change the shape of y to (n_samples,), for example using ravel().\n",
      "  after removing the cwd from sys.path.\n"
     ]
    },
    {
     "name": "stdout",
     "output_type": "stream",
     "text": [
      "0.062360801781737196\n"
     ]
    }
   ],
   "source": [
    "from sklearn.ensemble import RandomForestClassifier\n",
    "\n",
    "cl = RandomForestClassifier(n_estimators=1000)\n",
    "cl.fit(X_train, y_train)\n",
    "y_pred = cl.predict(X_test)\n",
    "acuracy = metrics.accuracy_score(y_test, y_pred)\n",
    "print(1 - acuracy)"
   ]
  }
 ],
 "metadata": {
  "kernelspec": {
   "display_name": "Python 3",
   "language": "python",
   "name": "python3"
  },
  "language_info": {
   "codemirror_mode": {
    "name": "ipython",
    "version": 3
   },
   "file_extension": ".py",
   "mimetype": "text/x-python",
   "name": "python",
   "nbconvert_exporter": "python",
   "pygments_lexer": "ipython3",
   "version": "3.7.5"
  }
 },
 "nbformat": 4,
 "nbformat_minor": 2
}
