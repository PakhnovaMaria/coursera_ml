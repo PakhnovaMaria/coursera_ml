{
 "cells": [
  {
   "cell_type": "markdown",
   "metadata": {},
   "source": [
    "# Градиентный бустинг своими руками\n",
    "\n",
    "**Внимание:** в тексте задания произошли изменения - поменялось число деревьев (теперь 50), правило изменения величины шага в задании 3 и добавился параметр `random_state` у решающего дерева. Правильные ответы не поменялись, но теперь их проще получить. Также исправлена опечатка в функции `gbm_predict`.\n",
    "\n",
    "В этом задании будет использоваться датасет `boston` из `sklearn.datasets`. Оставьте последние 25% объектов для контроля качества, разделив `X` и `y` на `X_train`, `y_train` и `X_test`, `y_test`.\n",
    "\n",
    "Целью задания будет реализовать простой вариант градиентного бустинга над регрессионными деревьями для случая квадратичной функции потерь."
   ]
  },
  {
   "cell_type": "code",
   "execution_count": 50,
   "metadata": {},
   "outputs": [
    {
     "name": "stderr",
     "output_type": "stream",
     "text": [
      "c:\\users\\mi\\appdata\\local\\programs\\python\\python37\\lib\\site-packages\\ipykernel_launcher.py:14: UserWarning: Pandas doesn't allow columns to be created via a new attribute name - see https://pandas.pydata.org/pandas-docs/stable/indexing.html#attribute-access\n",
      "  \n"
     ]
    }
   ],
   "source": [
    "from sklearn import ensemble, model_selection, metrics, datasets, tree\n",
    "\n",
    "import numpy as np\n",
    "import pandas as pd\n",
    "import xgboost as xgb\n",
    "\n",
    "from sklearn.model_selection import train_test_split\n",
    "\n",
    "import warnings\n",
    "from sklearn.exceptions import DataConversionWarning\n",
    "\n",
    "boston = datasets.load_boston()\n",
    "boston_frame = pd.DataFrame(boston.data)\n",
    "boston_frame.coloms = boston.feature_names\n",
    "boston_target = pd.DataFrame(boston.target)\n",
    "boston_target.head()\n",
    "\n",
    "X_train, X_test, y_train, y_test = train_test_split(boston.data, boston.target, test_size=0.25, random_state=0)\n",
    "\n",
    "n_split = np.int(np.round(boston_target.shape[0]*0.75))\n",
    "X_train = boston.data[:n_split]\n",
    "y_train = boston.target[:n_split]\n",
    "X_test = boston.data[n_split:]\n",
    "y_test = boston.target[n_split:]"
   ]
  },
  {
   "cell_type": "markdown",
   "metadata": {},
   "source": [
    "## Задание 1\n",
    "\n",
    "Как вы уже знаете из лекций, **бустинг** - это метод построения композиций базовых алгоритмов с помощью последовательного добавления к текущей композиции нового алгоритма с некоторым коэффициентом. \n",
    "\n",
    "Градиентный бустинг обучает каждый новый алгоритм так, чтобы он приближал антиградиент ошибки по ответам композиции на обучающей выборке. Аналогично минимизации функций методом градиентного спуска, в градиентном бустинге мы подправляем композицию, изменяя алгоритм в направлении антиградиента ошибки.\n",
    "\n",
    "Воспользуйтесь формулой из лекций, задающей ответы на обучающей выборке, на которые нужно обучать новый алгоритм (фактически это лишь чуть более подробно расписанный градиент от ошибки), и получите частный ее случай, если функция потерь `L` - квадрат отклонения ответа композиции `a(x)` от правильного ответа `y` на данном `x`.\n",
    "\n",
    "Если вы давно не считали производную самостоятельно, вам поможет таблица производных элементарных функций (которую несложно найти в интернете) и правило дифференцирования сложной функции. После дифференцирования квадрата у вас возникнет множитель 2 — т.к. нам все равно предстоит выбирать коэффициент, с которым будет добавлен новый базовый алгоритм, проигноируйте этот множитель при дальнейшем построении алгоритма."
   ]
  },
  {
   "cell_type": "code",
   "execution_count": 51,
   "metadata": {},
   "outputs": [],
   "source": [
    "#2(a(x) - y)\n",
    "def L(z, y):\n",
    "    return (z-y)"
   ]
  },
  {
   "cell_type": "markdown",
   "metadata": {},
   "source": [
    "## Задание 2\n",
    "\n",
    "Заведите массив для объектов `DecisionTreeRegressor` (будем их использовать в качестве базовых алгоритмов) и для вещественных чисел (это будут коэффициенты перед базовыми алгоритмами). \n",
    "\n",
    "В цикле от обучите последовательно 50 решающих деревьев с параметрами `max_depth=5` и `random_state=42` (остальные параметры - по умолчанию). В бустинге зачастую используются сотни и тысячи деревьев, но мы ограничимся 50, чтобы алгоритм работал быстрее, и его было проще отлаживать (т.к. цель задания разобраться, как работает метод). Каждое дерево должно обучаться на одном и том же множестве объектов, но ответы, которые учится прогнозировать дерево, будут меняться в соответствие с полученным в задании 1 правилом. \n",
    "\n",
    "Попробуйте для начала всегда брать коэффициент равным 0.9. Обычно оправдано выбирать коэффициент значительно меньшим - порядка 0.05 или 0.1, но т.к. в нашем учебном примере на стандартном датасете будет всего 50 деревьев, возьмем для начала шаг побольше.\n",
    "\n",
    "В процессе реализации обучения вам потребуется функция, которая будет вычислять прогноз построенной на данный момент композиции деревьев на выборке `X`:\n",
    "\n",
    "```\n",
    "def gbm_predict(X):\n",
    "    return [sum([coeff * algo.predict([x])[0] for algo, coeff in zip(base_algorithms_list, coefficients_list)]) for x in X]\n",
    "(считаем, что base_algorithms_list - список с базовыми алгоритмами, coefficients_list - список с коэффициентами перед алгоритмами)\n",
    "```\n",
    "\n",
    "Эта же функция поможет вам получить прогноз на контрольной выборке и оценить качество работы вашего алгоритма с помощью `mean_squared_error` в `sklearn.metrics`. \n",
    "\n",
    "Возведите результат в степень 0.5, чтобы получить `RMSE`. Полученное значение `RMSE` — **ответ в пункте 2**."
   ]
  },
  {
   "cell_type": "code",
   "execution_count": 52,
   "metadata": {},
   "outputs": [
    {
     "name": "stdout",
     "output_type": "stream",
     "text": [
      "4.674470252481672\n"
     ]
    }
   ],
   "source": [
    "def gbm_predict(X, base_algorithms_list, coefficients_list):\n",
    "    return [sum([coeff * algo.predict([x])[0] for algo, \n",
    "                 coeff in zip(base_algorithms_list, coefficients_list)]) for x in X]\n",
    "\n",
    "def gbm_grad(X_train, y_train,base_algorithms_list, coefficients_list):\n",
    "    return y_train - gbm_predict(X_train,base_algorithms_list, coefficients_list)\n",
    "    \n",
    "base_algorithms_list = []\n",
    "coeff = []\n",
    "coeff.append(0.9)\n",
    "\n",
    "for i in range(50):\n",
    "    tr_regression = tree.DecisionTreeRegressor(max_depth = 5, random_state=42)\n",
    "    if i == 0:\n",
    "        tr_regression.fit(X_train, y_train)\n",
    "    else:\n",
    "        tr_regression.fit(X_train, gbm_grad(X_train, y_train,base_algorithms_list, coeff))\n",
    "    base_algorithms_list.append(tr_regression)\n",
    "    \n",
    "print(metrics.mean_squared_error(gbm_predict(X_test, base_algorithms_list, coeff), y_test)**0.5)"
   ]
  },
  {
   "cell_type": "markdown",
   "metadata": {},
   "source": [
    "## Задание 3\n",
    "\n",
    "Вас может также беспокоить, что двигаясь с постоянным шагом, вблизи минимума ошибки ответы на обучающей выборке меняются слишком резко, перескакивая через минимум. \n",
    "\n",
    "Попробуйте уменьшать вес перед каждым алгоритмом с каждой следующей итерацией по формуле `0.9 / (1.0 + i)`, где `i` - номер итерации (от 0 до 49). Используйте качество работы алгоритма как **ответ в пункте 3**. \n",
    "\n",
    "В реальности часто применяется следующая стратегия выбора шага: как только выбран алгоритм, подберем коэффициент перед ним численным методом оптимизации таким образом, чтобы отклонение от правильных ответов было минимальным. Мы не будем предлагать вам реализовать это для выполнения задания, но рекомендуем попробовать разобраться с такой стратегией и реализовать ее при случае для себя."
   ]
  },
  {
   "cell_type": "code",
   "execution_count": 53,
   "metadata": {},
   "outputs": [
    {
     "name": "stdout",
     "output_type": "stream",
     "text": [
      "5.241033584774468\n"
     ]
    }
   ],
   "source": [
    "def gbm_predict(X, base_algorithms_list, coefficients_list):\n",
    "    return [sum([coeff * algo.predict([x])[0] for algo, \n",
    "                 coeff in zip(base_algorithms_list, coefficients_list)]) for x in X]\n",
    "\n",
    "def gbm_grad(X_train, y_train,base_algorithms_list, coefficients_list):\n",
    "    return y_train - gbm_predict(X_train,base_algorithms_list, coefficients_list)\n",
    "    \n",
    "base_algorithms_list = []\n",
    "coeff = []\n",
    "\n",
    "for i in range(50):\n",
    "    coeff.append(0.9/(1+i))\n",
    "    tr_regression = tree.DecisionTreeRegressor(max_depth = 5, random_state=42)\n",
    "    if i == 0:\n",
    "        tr_regression.fit(X_train, y_train)\n",
    "    else:\n",
    "        tr_regression.fit(X_train, gbm_grad(X_train, y_train,base_algorithms_list, coeff))\n",
    "    base_algorithms_list.append(tr_regression)\n",
    "    \n",
    "print(metrics.mean_squared_error(gbm_predict(X_test, base_algorithms_list, coeff), y_test)**0.5)"
   ]
  },
  {
   "cell_type": "markdown",
   "metadata": {},
   "source": [
    "## Задание 4\n",
    "\n",
    "Реализованный вами метод - градиентный бустинг над деревьями - очень популярен в машинном обучении. Он представлен как в самой библиотеке `sklearn`, так и в сторонней библиотеке `XGBoost`, которая имеет свой питоновский интерфейс. На практике `XGBoost` работает заметно лучше `GradientBoostingRegressor` из `sklearn`, но для этого задания вы можете использовать любую реализацию. \n",
    "\n",
    "Исследуйте, переобучается ли градиентный бустинг с ростом числа итераций (и подумайте, почему), а также с ростом глубины деревьев. На основе наблюдений выпишите через пробел номера правильных из приведенных ниже утверждений в порядке возрастания номера (это будет **ответ в п.4**):\n",
    "\n",
    "    1. С увеличением числа деревьев, начиная с некоторого момента, качество работы градиентного бустинга не меняется существенно.\n",
    "\n",
    "    2. С увеличением числа деревьев, начиная с некоторого момента, градиентный бустинг начинает переобучаться.\n",
    "\n",
    "    3. С ростом глубины деревьев, начиная с некоторого момента, качество работы градиентного бустинга на тестовой выборке начинает ухудшаться.\n",
    "\n",
    "    4. С ростом глубины деревьев, начиная с некоторого момента, качество работы градиентного бустинга перестает существенно изменяться"
   ]
  },
  {
   "cell_type": "code",
   "execution_count": 37,
   "metadata": {},
   "outputs": [
    {
     "name": "stdout",
     "output_type": "stream",
     "text": [
      "50\n",
      "100\n",
      "200\n",
      "300\n",
      "400\n",
      "500\n",
      "1000\n"
     ]
    },
    {
     "data": {
      "image/png": "[encoded data removed]",
      "text/plain": [
       "<Figure size 432x288 with 1 Axes>"
      ]
     },
     "metadata": {
      "needs_background": "light"
     },
     "output_type": "display_data"
    },
    {
     "name": "stdout",
     "output_type": "stream",
     "text": [
      "2\n",
      "4\n",
      "6\n",
      "8\n",
      "20\n"
     ]
    },
    {
     "data": {
      "image/png": "[encoded data removed]",
      "text/plain": [
       "<Figure size 432x288 with 1 Axes>"
      ]
     },
     "metadata": {
      "needs_background": "light"
     },
     "output_type": "display_data"
    }
   ],
   "source": [
    "import matplotlib.pyplot as plt\n",
    "\n",
    "max_depth = [2, 4, 6, 8, 20]\n",
    "n_trees = [50, 100, 200, 300, 400, 500, 1000]\n",
    "\n",
    "xgb_scoring = []\n",
    "for n_tree in n_trees:\n",
    "    print(n_tree)\n",
    "    estimator = xgb.XGBClassifier(n_estimators=n_tree)\n",
    "    estimator.fit(X_train, y_train)\n",
    "    score = metrics.mean_squared_error(estimator.predict(X_test), y_test)**0.5    \n",
    "    xgb_scoring.append(score)\n",
    "#xgb_scoring = np.asmatrix(xgb_scoring)\n",
    "\n",
    "plt.plot(n_trees, xgb_scoring, label='XGBoost')\n",
    "plt.xlabel('n_trees')\n",
    "plt.ylabel('score')\n",
    "plt.title('Accuracy score')\n",
    "#plt.legend(loc='lower right')\n",
    "plt.show()\n",
    "\n",
    "xgb_scoring = []\n",
    "for d in max_depth:\n",
    "    print(d)\n",
    "    estimator = xgb.XGBClassifier(max_depth=d)\n",
    "    estimator.fit(X_train, y_train)\n",
    "    score = metrics.mean_squared_error(estimator.predict(X_test), y_test)**0.5    \n",
    "    xgb_scoring.append(score)\n",
    "#xgb_scoring = np.asmatrix(xgb_scoring)\n",
    "\n",
    "plt.plot(max_depth, xgb_scoring, label='XGBoost')\n",
    "plt.xlabel('max_depth')\n",
    "plt.ylabel('score')\n",
    "plt.title('Accuracy score')\n",
    "#plt.legend(loc='lower right')\n",
    "plt.show()\n",
    "\n"
   ]
  },
  {
   "cell_type": "markdown",
   "metadata": {},
   "source": [
    "## Задание 5\n",
    "\n",
    "Сравните получаемое с помощью градиентного бустинга качество с качеством работы линейной регрессии. \n",
    "\n",
    "Для этого обучите `LinearRegression` из `sklearn.linear_model` (с параметрами по умолчанию) на обучающей выборке и оцените для прогнозов полученного алгоритма на тестовой выборке `RMSE`. Полученное качество - ответ в **пункте 5**. \n",
    "\n",
    "В данном примере качество работы простой модели должно было оказаться хуже, но не стоит забывать, что так бывает не всегда. В заданиях к этому курсу вы еще встретите пример обратной ситуации."
   ]
  },
  {
   "cell_type": "code",
   "execution_count": 49,
   "metadata": {},
   "outputs": [
    {
     "name": "stdout",
     "output_type": "stream",
     "text": [
      "7.7656233958579834\n"
     ]
    }
   ],
   "source": [
    "n_split = np.int(np.round(boston_target.shape[0]*0.75))\n",
    "X_train = boston.data[:n_split]\n",
    "y_train = boston.target[:n_split]\n",
    "X_test = boston.data[n_split:]\n",
    "y_test = boston.target[n_split:]\n",
    "\n",
    "from sklearn import linear_model\n",
    "\n",
    "def gbm_predict(X, base_algorithms_list, coefficients_list):\n",
    "    return [sum([coeff * algo.predict([x])[0] for algo, \n",
    "                 coeff in zip(base_algorithms_list, coefficients_list)]) for x in X]\n",
    "\n",
    "def gbm_grad(X_train, y_train,base_algorithms_list, coefficients_list):\n",
    "    return y_train - gbm_predict(X_train, base_algorithms_list, coefficients_list)\n",
    "    \n",
    "base_algorithms_list = []\n",
    "coeff = []\n",
    "#coeff.append(0.9)\n",
    "\n",
    "for i in range(50):\n",
    "    regression = linear_model.LinearRegression()\n",
    "    coeff.append(0.9/(1+i))\n",
    "    if i == 0:\n",
    "        regression.fit(X_train, y_train)\n",
    "    else:\n",
    "        regression.fit(X_train, gbm_grad(X_train, y_train,base_algorithms_list, coeff))\n",
    "    base_algorithms_list.append(regression)\n",
    "    \n",
    "print(metrics.mean_squared_error(gbm_predict(X_test, base_algorithms_list, coeff), y_test)**0.5)"
   ]
  },
  {
   "cell_type": "code",
   "execution_count": null,
   "metadata": {},
   "outputs": [],
   "source": []
  }
 ],
 "metadata": {
  "kernelspec": {
   "display_name": "Python 3",
   "language": "python",
   "name": "python3"
  },
  "language_info": {
   "codemirror_mode": {
    "name": "ipython",
    "version": 3
   },
   "file_extension": ".py",
   "mimetype": "text/x-python",
   "name": "python",
   "nbconvert_exporter": "python",
   "pygments_lexer": "ipython3",
   "version": "3.7.5"
  }
 },
 "nbformat": 4,
 "nbformat_minor": 1
}
