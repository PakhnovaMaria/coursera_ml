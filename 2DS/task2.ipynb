{
 "cells": [
  {
   "cell_type": "code",
   "execution_count": 1,
   "metadata": {},
   "outputs": [],
   "source": [
    "import numpy as np\n",
    "import matplotlib.pyplot as plt"
   ]
  },
  {
   "cell_type": "code",
   "execution_count": 2,
   "metadata": {},
   "outputs": [],
   "source": [
    "def uniformMeshToLogorithmicMesh(uniformMesh, zeta, verbose=False):\n",
    "    \"\"\"\n",
    "    \"\"\"\n",
    "    deltaX = uniformMesh[1] - uniformMesh[0]\n",
    "    logorithmicMesh = np.exp(uniformMesh) / zeta\n",
    "    if verbose:\n",
    "        print(\"Radial grid information:\")\n",
    "        print(\"deltaX   = {0:10.6f}, xMin = {1:10.6f}, zeta = {2:10d}\".format(deltaX, min(uniformMesh), zeta))\n",
    "        print(\"meshSize = {0:10d}, r(0) = {1:10.6f}, r(meshSize) = {2:10.6f}\".format(len(uniformMesh), \n",
    "                                                                                     logorithmicMesh[0],\n",
    "                                                                                     logorithmicMesh[-1]))\n",
    "    return logorithmicMesh"
   ]
  },
  {
   "cell_type": "code",
   "execution_count": 3,
   "metadata": {},
   "outputs": [],
   "source": [
    "def coulombPotential(r, zeta):\n",
    "    \"\"\"\n",
    "    Note factor 2.0 due to atomic units with Ry\n",
    "    \"\"\"\n",
    "    return -2.0 * zeta / r"
   ]
  },
  {
   "cell_type": "code",
   "execution_count": 4,
   "metadata": {},
   "outputs": [],
   "source": [
    "def numerovIntegrationScheme(g, y0, y1, deltaX):\n",
    "    \"\"\"\n",
    "    Numerov integeration scheme to solve\n",
    "    second-order differential equation in general form:    \n",
    "    d^2 y / d x^2 = -g(x) * y(x)\n",
    "    Assume regular mesh x0, x1, ..., xN\n",
    "    Inputs: \n",
    "    g - array of [g(x0), g(x1), ..., g(xN)]\n",
    "    y0, y1 - intial conditions y(x0), y(x1)\n",
    "    deltaX - interval size of the mesh \n",
    "    Outpus:\n",
    "    y - array of solution [y(x0), y(x1), ..., y(xN)]\n",
    "    \"\"\"\n",
    "    meshSize = len(g)\n",
    "    f = 1 + g * (deltaX)**2 / 12.0\n",
    "    y = np.zeros(meshSize)\n",
    "    y[0] = y0\n",
    "    y[1] = y1\n",
    "    for i in range(1, meshSize-1):\n",
    "        # Preventing zero division\n",
    "        if f[i+1] == 0: \n",
    "            f[i+1] = 1E-10\n",
    "        y[i+1] = ((12.0 - 10.0 * f[i]) * y[i] - f[i-1] * y[i-1]) / f[i+1]\n",
    "    return y"
   ]
  },
  {
   "cell_type": "code",
   "execution_count": 5,
   "metadata": {},
   "outputs": [],
   "source": [
    "def numerovIntegrationSchemeReverse(g, y0, y1, deltaX):\n",
    "    \"\"\"\n",
    "    \"\"\"\n",
    "    meshSize = len(g)  \n",
    "    f = 1 + g * (deltaX)**2 / 12.0\n",
    "    y = np.zeros(meshSize)\n",
    "    y[-1] = y0\n",
    "    y[-2] = y1\n",
    "    for i in range(meshSize-2)[::-1]:\n",
    "        # Preventing zero division\n",
    "        if f[i] == 0: \n",
    "            f[i] = 1E-10\n",
    "        y[i] = ((12.0 - 10.0 * f[i+1]) * y[i+1] - f[i+2] * y[i+2]) / f[i]\n",
    "        if (y[i] > 1E10): y /= y[i]\n",
    "    return y"
   ]
  },
  {
   "cell_type": "code",
   "execution_count": 6,
   "metadata": {},
   "outputs": [],
   "source": [
    "def getTurningPointIndex(mesh, g):\n",
    "    \"\"\"\n",
    "    \"\"\"\n",
    "    meshSize = len(mesh)\n",
    "    deltaX = mesh[1] - mesh[0]\n",
    "    turningPointIndex = -1\n",
    "    for i in range(meshSize):\n",
    "        if g[i] == 0.0: \n",
    "            g[i] = 1E-20\n",
    "        if g[i] * g[i-1] < 0:\n",
    "            turningPointIndex = i\n",
    "    return turningPointIndex"
   ]
  },
  {
   "cell_type": "code",
   "execution_count": 7,
   "metadata": {},
   "outputs": [],
   "source": [
    "def howManyNodes(y):\n",
    "    \"\"\"\n",
    "    Returns number of y function nodes\n",
    "    \"\"\"\n",
    "    numberOfNodes = 0\n",
    "    meshSize = len(y)\n",
    "    for i in range(meshSize-1):\n",
    "        if y[i] * y[i+1] < 0:\n",
    "            numberOfNodes += 1\n",
    "    return numberOfNodes"
   ]
  },
  {
   "cell_type": "code",
   "execution_count": 8,
   "metadata": {},
   "outputs": [],
   "source": [
    "def normalizeWF(y, r, deltaX):\n",
    "    \"\"\"\n",
    "    normalization - note the change of variable:\n",
    "    \\int f(r)dr => \\sum_i f_i r_i Delta x\n",
    "    \"\"\"\n",
    "    meshSize = len(y)\n",
    "    wfNorm = 0\n",
    "    for i in range(meshSize):\n",
    "        wfNorm += y[i]**2 * r[i]**2 * deltaX\n",
    "    yNorm = y / np.sqrt(wfNorm)\n",
    "    return yNorm "
   ]
  },
  {
   "cell_type": "code",
   "execution_count": 9,
   "metadata": {},
   "outputs": [],
   "source": [
    "def solveRadialShrodingerEquation(n, l, uniformMesh, potential, zeta,\n",
    "                                  maximumNumberOfInterations = 100,\n",
    "                                  tolerance = 1E-10,\n",
    "                                  verbose=False, convergence=False):\n",
    "    \"\"\"\n",
    "    Solve the schroedinger equation in radial coordinates on a \n",
    "    logarithmic grid by Numerov method - atomic (Ry) units\n",
    "    \"\"\"\n",
    "    deltaX = uniformMesh[1] - uniformMesh[0]\n",
    "    meshSize = len(uniformMesh)\n",
    "    r = uniformMeshToLogorithmicMesh(uniformMesh, zeta)\n",
    "    centrifugalPotential = (l + 0.5)**2 / r**2\n",
    "    numberOfNodes = n - l - 1\n",
    "    Energy = []\n",
    "    Iterations = []\n",
    "    \n",
    "    # Set (very rough) initial lower and upper bounds to the eigenvalue\n",
    "    maxEnergy  = potential(r, zeta)[-1]\n",
    "    minEnergy = min(potential(r, zeta) + centrifugalPotential)\n",
    "\n",
    "    energy = 0.5 * (minEnergy + maxEnergy)\n",
    "\n",
    "    # Print header\n",
    "    if verbose:\n",
    "        print(\"(Number Of Iterations)(Energy)(Minimum energy)(Maximum Energy)\" \n",
    "              + \"(Delta energy)(Current number of nodes)(Target number of nodes)\")\n",
    "    \n",
    "    y = np.zeros(meshSize)\n",
    "    numberOfIterations = 0\n",
    "    Iterations.append(numberOfIterations)\n",
    "    Energy.append(energy)\n",
    "    while numberOfIterations < maximumNumberOfInterations:\n",
    "        numberOfIterations += 1\n",
    "        # Set up the g-function \n",
    "        # Determine the position of g last change of sign\n",
    "        # g < 0 (approximately) means classically allowed   region\n",
    "        # g > 0         \"         \"        \"      forbidden   \"\n",
    "        g = (r**2 * (energy - potential(r, zeta)) - (l + 0.5)**2) \n",
    "        f = 1 + g * deltaX**2 / 12.0\n",
    "        turningPointIndex = getTurningPointIndex(uniformMesh, g)\n",
    "        \n",
    "        if turningPointIndex == -1 or turningPointIndex == (meshSize - 1):\n",
    "            maxEnergy = energy\n",
    "            energy = (minEnergy + maxEnergy) / 2.0\n",
    "            continue\n",
    "        \n",
    "        numberOfNodes = n - l - 1\n",
    "        errorMessage = \"Number of nodes should be greater or equal to zero.\"\n",
    "        errorMessage += \"Please, chose right n, l quantum numbers!\"\n",
    "        assert numberOfNodes >= 0, errorMessage \n",
    "        # Determination of the wave-function in the first two points\n",
    "        # (assymtotic behavior - second term depends upon potential)\n",
    "        y0 = r[0]**(l+0.5) * (1.0 - 2.0 * zeta * r[0] / (2 * l + 2))\n",
    "        y1 = r[1]**(l+0.5) * (1.0 - 2.0 * zeta * r[1] / (2 * l + 2))\n",
    "        # Outward integration, count number of crossings\n",
    "        y[:(turningPointIndex+1)] = numerovIntegrationScheme(g[:(turningPointIndex+1)], y0, y1, deltaX)\n",
    "        yLeft = y[turningPointIndex]\n",
    "        yNodes = howManyNodes(y[:turningPointIndex]) \n",
    "        if  yNodes != numberOfNodes:\n",
    "            Iterations.append(numberOfIterations)\n",
    "            if yNodes > numberOfNodes:\n",
    "                maxEnergy = energy\n",
    "                energy = (minEnergy + maxEnergy) / 2.0\n",
    "                Energy.append(energy)\n",
    "            else:\n",
    "                minEnergy = energy\n",
    "                energy = (minEnergy + maxEnergy) / 2.0\n",
    "                Energy.append(energy)\n",
    "            if verbose:\n",
    "                formatString = \"{0:10d}\\t{1:10.10f}\\t{2:10.10f}\\t{3:10.10f}\\t{4:10s}\\t{5:10d}\\t{6:10d}\" \n",
    "                print(formatString.format(numberOfIterations, energy, minEnergy, maxEnergy, \"---\",\n",
    "                                          yNodes, numberOfNodes))\n",
    "            continue           \n",
    "        # Determination of the wave-function in the last two points\n",
    "        # Assuming y[mesh+1] = 0 and y[mesh] = dx\n",
    "        y0 = deltaX \n",
    "        y1 = (12.0 - 10.0 * f[-1]) * y0 / f[-1]\n",
    "        # Inward integration\n",
    "        y[turningPointIndex:] = numerovIntegrationSchemeReverse(g[turningPointIndex:], y0, y1, deltaX)\n",
    "        yRight = y[turningPointIndex]\n",
    "        # Scaling wave function \n",
    "        y[turningPointIndex:] *= yLeft / yRight\n",
    "        # Normalizing  wave fucntion\n",
    "        y = normalizeWF(y, r, deltaX)\n",
    "        # Find the value of the cusp at the matching point (turning point)\n",
    "        i = turningPointIndex\n",
    "        yCusp = (y[i-1] * f[i-1] + f[i+1] * y[i+1] + 10.0 * f[i] * y[i]) / 12.0\n",
    "        deltaFCusp = f[i] * (y[i] / yCusp - 1.0)\n",
    "        # Eigenvalue update using perturbation theory\n",
    "        deltaEnergy = deltaFCusp * 12.0 / deltaX**2 * yCusp * yCusp * deltaX\n",
    "        if (deltaEnergy > 0.0):\n",
    "            minEnergy = energy\n",
    "        else:\n",
    "            maxEnergy = energy\n",
    "        # Prevent energy to go out of bounds, i.e. energy > maxEnergy or energy < minEnergy\n",
    "        # (might happen far from convergence)\n",
    "        energy = max(min(energy + deltaEnergy, maxEnergy), minEnergy)\n",
    "        if verbose:\n",
    "                formatString = \"{0:10d}\\t{1:10.10f}\\t{2:10.10f}\\t{3:10.10f}\\t{4:10.10f}\\t{5:10d}\\t{6:10d}\" \n",
    "                print(formatString.format(numberOfIterations, energy, minEnergy, maxEnergy, deltaEnergy,\n",
    "                    yNodes, numberOfNodes))\n",
    "        Iterations.append(numberOfIterations)\n",
    "        Energy.append(energy)\n",
    "        # Convergence check     \n",
    "        if abs(deltaEnergy) < tolerance:\n",
    "            break\n",
    "    if convergence == True:\n",
    "        return energy, y, Iterations, Energy\n",
    "    else:\n",
    "        return energy, y"
   ]
  },
  {
   "cell_type": "code",
   "execution_count": 10,
   "metadata": {},
   "outputs": [
    {
     "name": "stdout",
     "output_type": "stream",
     "text": [
      "Radial grid information:\n",
      "deltaX   =   0.010000, xMin =  -8.000000, zeta =          1\n",
      "meshSize =       1260, r(0) =   0.000335, r(meshSize) =  98.494430\n"
     ]
    }
   ],
   "source": [
    "uniformMesh = np.linspace(-8, 4.59, 1260)\n",
    "zeta = 1\n",
    "r = uniformMeshToLogorithmicMesh(uniformMesh, zeta, verbose=True)"
   ]
  },
  {
   "cell_type": "code",
   "execution_count": 11,
   "metadata": {},
   "outputs": [
    {
     "name": "stdout",
     "output_type": "stream",
     "text": [
      "(Number Of Iterations)(Energy)(Minimum energy)(Maximum Energy)(Delta energy)(Current number of nodes)(Target number of nodes)\n",
      "         1\t-0.6725707251\t-2.0101252929\t-0.0203057167\t1.3375545678\t         0\t         0\n",
      "         2\t-1.3413480090\t-2.0101252929\t-0.6725707251\t---       \t         1\t         0\n",
      "         3\t-0.9525171219\t-1.3413480090\t-0.6725707251\t0.3888308871\t         0\t         0\n",
      "         4\t-0.9977479060\t-1.3413480090\t-0.9525171219\t-0.0452307841\t         0\t         0\n",
      "         5\t-0.9999957833\t-1.3413480090\t-0.9977479060\t-0.0022478774\t         0\t         0\n",
      "         6\t-1.0000000002\t-1.3413480090\t-0.9999957833\t-0.0000042169\t         0\t         0\n",
      "         7\t-1.0000000002\t-1.3413480090\t-1.0000000002\t-0.0000000000\t         0\t         0\n"
     ]
    }
   ],
   "source": [
    "energy, y = solveRadialShrodingerEquation(1, 0, uniformMesh, coulombPotential, 1, verbose=True)"
   ]
  },
  {
   "cell_type": "code",
   "execution_count": 13,
   "metadata": {},
   "outputs": [
    {
     "data": {
      "image/png": "[encoded data removed]",
      "text/plain": [
       "<Figure size 432x288 with 1 Axes>"
      ]
     },
     "metadata": {
      "needs_background": "light"
     },
     "output_type": "display_data"
    }
   ],
   "source": [
    "xi = r**(0.5) * y\n",
    "plt.plot(r, xi)\n",
    "plt.xlim(0, 20)\n",
    "plt.xlabel('r')\n",
    "plt.ylabel('xi')\n",
    "plt.show()"
   ]
  },
  {
   "cell_type": "code",
   "execution_count": 14,
   "metadata": {},
   "outputs": [
    {
     "data": {
      "image/png": "[encoded data removed]",
      "text/plain": [
       "<Figure size 432x288 with 1 Axes>"
      ]
     },
     "metadata": {
      "needs_background": "light"
     },
     "output_type": "display_data"
    }
   ],
   "source": [
    "phi_rad = r**(-0.5) * y\n",
    "plt.plot(r, phi_rad)\n",
    "plt.xlabel('r')\n",
    "plt.ylabel('phi_rad')\n",
    "plt.show()"
   ]
  },
  {
   "cell_type": "markdown",
   "metadata": {},
   "source": [
    "# Домашнее задание:"
   ]
  },
  {
   "cell_type": "markdown",
   "metadata": {},
   "source": [
    "1) Исследовали решения как функцию n и l; проверили наличие случайного вырождения. "
   ]
  },
  {
   "cell_type": "code",
   "execution_count": 15,
   "metadata": {},
   "outputs": [
    {
     "name": "stdout",
     "output_type": "stream",
     "text": [
      "n =  3 l =  0 energy =  -0.11111111130919392\n",
      "n =  3 l =  1 energy =  -0.11111111121830201\n",
      "n =  3 l =  2 energy =  -0.11111111113722569\n",
      "n =  5 l =  0 энергия =  -0.039999934533990984\n",
      "n =  5 l =  1 энергия =  -0.03999995088281463\n",
      "n =  5 l =  2 энергия =  -0.039999973355926505\n",
      "n =  5 l =  3 энергия =  -0.03999999052744594\n",
      "n =  5 l =  4 энергия =  -0.03999999832063219\n"
     ]
    }
   ],
   "source": [
    "n = 3\n",
    "l = []\n",
    "for i in range(0, n):\n",
    "    l.append(i)\n",
    "for i in range(len(l)):\n",
    "    energy = solveRadialShrodingerEquation(n, l[i], uniformMesh, coulombPotential, 1)[0]\n",
    "    print('n = ', n, 'l = ', l[i], 'energy = ', energy)\n",
    "n = 5\n",
    "l = []\n",
    "for i in range(0, n):\n",
    "    l.append(i)\n",
    "for i in range(len(l)):\n",
    "    energy = solveRadialShrodingerEquation(n, l[i], uniformMesh, coulombPotential, 1)[0]\n",
    "    print('n = ', n, 'l = ', l[i], 'энергия = ', energy)"
   ]
  },
  {
   "cell_type": "markdown",
   "metadata": {},
   "source": [
    "По данным видно, что энергия обратно пропорциональна квадрату главного квантового числа. Имеется вырождение для энергетических уровней с одинаковыми значениями n и разными l (0, ..., (n-1))"
   ]
  },
  {
   "cell_type": "markdown",
   "metadata": {},
   "source": [
    "2) Рассмотрели решение как функцию ядерного заряда Z."
   ]
  },
  {
   "cell_type": "code",
   "execution_count": 16,
   "metadata": {},
   "outputs": [
    {
     "name": "stdout",
     "output_type": "stream",
     "text": [
      "Z =  1 энергия =  -1.0000000002334528 1.9993294170696834\n",
      "Z =  2 энергия =  -4.000000000934777 5.654957554544724\n",
      "Z =  3 энергия =  -9.000000002098034 10.388820394184958\n",
      "Z =  4 энергия =  -16.00000000373225 15.994635336397675\n",
      "Z =  5 энергия =  -25.000000005833407 22.353182429676718\n"
     ]
    },
    {
     "data": {
      "image/png": "[encoded data removed]",
      "text/plain": [
       "<Figure size 432x288 with 1 Axes>"
      ]
     },
     "metadata": {
      "needs_background": "light"
     },
     "output_type": "display_data"
    }
   ],
   "source": [
    "Z = [1, 2, 3, 4, 5] \n",
    "for i in range(len(Z)):\n",
    "    r = uniformMeshToLogorithmicMesh(uniformMesh, Z[i])\n",
    "    energy, y = solveRadialShrodingerEquation(1, 0, uniformMesh, coulombPotential, Z[i])\n",
    "    #psi_norm = normalizeWF(r**(-0.5) * y , r, uniformMesh[1] - uniformMesh[0])\n",
    "    phi_rad = r**(-0.5) * y\n",
    "    plt.plot(r, phi_rad, label = 'ВФ Z = ' + str(Z[i]))\n",
    "    print('Z = ', Z[i], 'энергия = ', energy, phi_rad[0])\n",
    "plt.legend()\n",
    "plt.title('Зависимость phi_rad(r) для разных Z')\n",
    "plt.xlim(0, 5)\n",
    "plt.xlabel('r')\n",
    "plt.ylabel('phi_rad')\n",
    "plt.show()"
   ]
  },
  {
   "cell_type": "markdown",
   "metadata": {},
   "source": [
    "По данным видно, что энергия прямо пропорциональна квадрату зарядового числа. Зависимость радиальной ВФ от зарядового числа представлена на графике. ВФ имеет вид убывающей экспоненты в зависимости от расстояния. При r->0 ВФ прямо пропорциональна $Z$. "
   ]
  },
  {
   "cell_type": "markdown",
   "metadata": {},
   "source": [
    "3) Слегка изменили потенциал: $V(r) = \\frac{-Z*q^2}{r^{1+\\delta}}$"
   ]
  },
  {
   "cell_type": "code",
   "execution_count": 17,
   "metadata": {},
   "outputs": [],
   "source": [
    "r = uniformMeshToLogorithmicMesh(uniformMesh, 1)\n",
    "\n",
    "def changed_coulombPotential001(r, zeta):\n",
    "    \"\"\"\n",
    "    Note factor 2.0 due to atomic units with Ry\n",
    "    \"\"\"\n",
    "    delta = 0.01\n",
    "    return -2.0 * zeta / r**(1+delta)\n",
    "\n",
    "def changed_coulombPotential01(r, zeta):\n",
    "    \"\"\"\n",
    "    Note factor 2.0 due to atomic units with Ry\n",
    "    \"\"\"\n",
    "    delta = 0.1\n",
    "    return -2.0 * zeta / r**(1+delta)"
   ]
  },
  {
   "cell_type": "markdown",
   "metadata": {},
   "source": [
    "4) Посчитали математическое ожидание r и 1/r.\n",
    "\n",
    "$E(R) = \\int \\psi^* * r *\\psi* 4\\pi r^2 dr$,\n",
    "$E(1/R) = \\int \\psi^* * \\frac{1}{r} *\\psi* 4\\pi r^2 dr$\n"
   ]
  },
  {
   "cell_type": "code",
   "execution_count": 18,
   "metadata": {},
   "outputs": [
    {
     "name": "stdout",
     "output_type": "stream",
     "text": [
      "Известные аналитические результаты для кулоновского потенциала, в Ry системе единиц\n",
      "Z =  1 n =  1 l =  0 средний r =  1.0 средняя E =  -2.0 Ry\n",
      "Известные аналитические результаты для кулоновского потенциала, в Ry системе единиц\n",
      "Z =  1 n =  1 l =  0 delta =  0.01 средний r =  0.99 средняя E =  -2.03 Ry\n",
      "Известные аналитические результаты для кулоновского потенциала, в Ry системе единиц\n",
      "Z =  1 n =  1 l =  0 delta =  0.1 средний r =  0.87 средняя E =  -2.37 Ry\n"
     ]
    }
   ],
   "source": [
    "phi_rad_col = normalizeWF(r**(-0.5) * solveRadialShrodingerEquation(1, 0, uniformMesh, coulombPotential, 1)[1], r, uniformMesh[1] - uniformMesh[0])\n",
    "phi_rad_cha001 = normalizeWF(r**(-0.5) * solveRadialShrodingerEquation(1, 0, uniformMesh, changed_coulombPotential001, 1)[1], r, uniformMesh[1] - uniformMesh[0])\n",
    "phi_rad_cha01 = normalizeWF(r**(-0.5) * solveRadialShrodingerEquation(1, 0, uniformMesh, changed_coulombPotential01, 1)[1], r, uniformMesh[1] - uniformMesh[0])\n",
    "\n",
    "deltaX = uniformMesh[1]-uniformMesh[0]\n",
    "ER = 0\n",
    "EE = 0\n",
    "for i in range(1, len(r)):\n",
    "    ER += (phi_rad_col[i] ** 2) * (r[i] ** 3) * deltaX\n",
    "    EE += (phi_rad_col[i] ** 2) * r[i] * deltaX * (-1)\n",
    "print('Известные аналитические результаты для кулоновского потенциала, в Ry системе единиц')\n",
    "print('Z = ', 1,  'n = ', 1, 'l = ', 0, 'средний r = ', round(ER ,2 ), 'средняя E = ', round(EE, 2), 'Ry')\n",
    "\n",
    "ER = 0\n",
    "EE = 0\n",
    "for i in range(1, len(r)):\n",
    "    ER += (phi_rad_cha001[i] ** 2) * (r[i] ** 3) * deltaX\n",
    "    EE += (phi_rad_cha001[i] ** 2) * r[i] * deltaX * (-1)\n",
    "print('Известные аналитические результаты для кулоновского потенциала, в Ry системе единиц')\n",
    "print('Z = ', 1,  'n = ', 1, 'l = ', 0, 'delta = ', 0.01, 'средний r = ', round(ER ,2 ), 'средняя E = ', round(EE, 2), 'Ry')\n",
    "\n",
    "ER = 0\n",
    "EE = 0\n",
    "for i in range(1, len(r)):\n",
    "    ER += (phi_rad_cha01[i] ** 2) * (r[i] ** 3) * deltaX\n",
    "    EE += (phi_rad_cha01[i] ** 2) * r[i] * deltaX * (-1)\n",
    "print('Известные аналитические результаты для кулоновского потенциала, в Ry системе единиц')\n",
    "print('Z = ', 1,  'n = ', 1, 'l = ', 0, 'delta = ', 0.1, 'средний r = ', round(ER ,2 ), 'средняя E = ', round(EE, 2), 'Ry')"
   ]
  },
  {
   "cell_type": "markdown",
   "metadata": {},
   "source": [
    "Видно, что чем больше delta, тем сильнее отличаются значения средней энергии и боровского радиуса. "
   ]
  },
  {
   "cell_type": "markdown",
   "metadata": {},
   "source": [
    "5) Рассмотрели другое отображение: $r(x) = r_0(exp(x)−1), \\frac{\\Delta r}{\\Delta x} = r + r_0, r_0 = \\frac{1}{Z}$.\n",
    "Добавили новую функцию new_uniformMeshToLogorithmicMesh. \n",
    "\n",
    "В данном случае $y(x) = \\frac{\\chi}{\\sqrt{r+r_0}}$. В идеале необходимо в функции new_solveRadialShrodingerEquation менять $g = (E-V)(r+r_0)^2 - l(l+1)(1+ \\frac{r_0}{r})^2 - 1/4$, так как $\\frac{\\Delta r}{\\Delta x} \\neq r $. "
   ]
  },
  {
   "cell_type": "code",
   "execution_count": 20,
   "metadata": {},
   "outputs": [
    {
     "name": "stdout",
     "output_type": "stream",
     "text": [
      "Энергия = -1.0153712350807842\n"
     ]
    },
    {
     "data": {
      "image/png": "[encoded data removed]",
      "text/plain": [
       "<Figure size 432x288 with 1 Axes>"
      ]
     },
     "metadata": {
      "needs_background": "light"
     },
     "output_type": "display_data"
    }
   ],
   "source": [
    "def new_uniformMeshToLogorithmicMesh(uniformMesh, zeta, verbose=False):\n",
    "    \"\"\"\n",
    "    \"\"\"\n",
    "    deltaX = uniformMesh[1] - uniformMesh[0]\n",
    "    logorithmicMesh = (np.exp(uniformMesh) - 1)/ zeta\n",
    "    if verbose:\n",
    "        print(\"Radial grid information:\")\n",
    "        print(\"deltaX   = {0:10.6f}, xMin = {1:10.6f}, zeta = {2:10d}\".format(deltaX, min(uniformMesh), zeta))\n",
    "        print(\"meshSize = {0:10d}, r(0) = {1:10.6f}, r(meshSize) = {2:10.6f}\".format(len(uniformMesh), \n",
    "                                                                                     logorithmicMesh[0],\n",
    "                                                                                     logorithmicMesh[-1]))\n",
    "    return logorithmicMesh\n",
    " \n",
    "def new_solveRadialShrodingerEquation(n, l, uniformMesh, potential, zeta,\n",
    "                                  maximumNumberOfInterations = 100,\n",
    "                                  tolerance = 1E-10,\n",
    "                                  verbose=False):\n",
    "    \"\"\"\n",
    "    Solve the schroedinger equation in radial coordinates on a \n",
    "    logarithmic grid by Numerov method - atomic (Ry) units\n",
    "    \"\"\"\n",
    "    deltaX = uniformMesh[1] - uniformMesh[0]\n",
    "    meshSize = len(uniformMesh)\n",
    "    r = new_uniformMeshToLogorithmicMesh(uniformMesh, zeta)\n",
    "    centrifugalPotential = (l + 0.5)**2 / r**2\n",
    "    numberOfNodes = n - l - 1\n",
    "    \n",
    "    # Set (very rough) initial lower and upper bounds to the eigenvalue\n",
    "    maxEnergy  = potential(r, zeta)[-1]\n",
    "    minEnergy = min(potential(r, zeta) + centrifugalPotential)\n",
    "\n",
    "    energy = 0.5 * (minEnergy + maxEnergy)\n",
    "\n",
    "    # Print header\n",
    "    if verbose:\n",
    "        print(\"(Number Of Iterations)(Energy)(Minimum energy)(Maximum Energy)\" \n",
    "              + \"(Delta energy)(Current number of nodes)(Target number of nodes)\")\n",
    "    \n",
    "    y = np.zeros(meshSize)\n",
    "    numberOfIterations = 0\n",
    "    while numberOfIterations < maximumNumberOfInterations:\n",
    "        numberOfIterations += 1\n",
    "        # Set up the g-function \n",
    "        # Determine the position of g last change of sign\n",
    "        # g < 0 (approximately) means classically allowed   region\n",
    "        # g > 0         \"         \"        \"      forbidden   \"\n",
    "        g = (((r+1/zeta)**2) * (energy - potential(r, zeta)) - l*(l+1)*(1+1/(zeta*r))**2 -1/4) \n",
    "        f = 1 + g * deltaX**2 / 12.0\n",
    "        turningPointIndex = getTurningPointIndex(uniformMesh, g)\n",
    "        \n",
    "        if turningPointIndex == -1 or turningPointIndex == (meshSize - 1):\n",
    "            maxEnergy = energy\n",
    "            energy = (minEnergy + maxEnergy) / 2.0\n",
    "            continue\n",
    "        \n",
    "        numberOfNodes = n - l - 1\n",
    "        errorMessage = \"Number of nodes should be greater or equal to zero.\"\n",
    "        errorMessage += \"Please, chose right n, l quantum numbers!\"\n",
    "        assert numberOfNodes >= 0, errorMessage \n",
    "        # Determination of the wave-function in the first two points\n",
    "        # (assymtotic behavior - second term depends upon potential)\n",
    "        y0 = r[0]**(l+0.5) * (1.0 - 2.0 * zeta * r[0] / (2 * l + 2))\n",
    "        y1 = r[1]**(l+0.5) * (1.0 - 2.0 * zeta * r[1] / (2 * l + 2))\n",
    "        # Outward integration, count number of crossings\n",
    "        y[:(turningPointIndex+1)] = numerovIntegrationScheme(g[:(turningPointIndex+1)], y0, y1, deltaX)\n",
    "        yLeft = y[turningPointIndex]\n",
    "        yNodes = howManyNodes(y[:turningPointIndex]) \n",
    "        if  yNodes != numberOfNodes:\n",
    "            if yNodes > numberOfNodes:\n",
    "                maxEnergy = energy\n",
    "                energy = (minEnergy + maxEnergy) / 2.0\n",
    "            else:\n",
    "                minEnergy = energy\n",
    "                energy = (minEnergy + maxEnergy) / 2.0\n",
    "            if verbose:\n",
    "                formatString = \"{0:10d}\\t{1:10.10f}\\t{2:10.10f}\\t{3:10.10f}\\t{4:10s}\\t{5:10d}\\t{6:10d}\" \n",
    "                print(formatString.format(numberOfIterations, energy, minEnergy, maxEnergy, \"---\",\n",
    "                                          yNodes, numberOfNodes))\n",
    "            continue           \n",
    "        # Determination of the wave-function in the last two points\n",
    "        # Assuming y[mesh+1] = 0 and y[mesh] = dx\n",
    "        y0 = deltaX \n",
    "        y1 = (12.0 - 10.0 * f[-1]) * y0 / f[-1]\n",
    "        # Inward integration\n",
    "        y[turningPointIndex:] = numerovIntegrationSchemeReverse(g[turningPointIndex:], y0, y1, deltaX)\n",
    "        yRight = y[turningPointIndex]\n",
    "        # Scaling wave function \n",
    "        y[turningPointIndex:] *= yLeft / yRight\n",
    "        # Normalizing  wave fucntion\n",
    "        y = normalizeWF(y, r, deltaX)\n",
    "        # Find the value of the cusp at the matching point (turning point)\n",
    "        i = turningPointIndex\n",
    "        yCusp = (y[i-1] * f[i-1] + f[i+1] * y[i+1] + 10.0 * f[i] * y[i]) / 12.0\n",
    "        deltaFCusp = f[i] * (y[i] / yCusp - 1.0)\n",
    "        # Eigenvalue update using perturbation theory\n",
    "        deltaEnergy = deltaFCusp * 12.0 / deltaX**2 * yCusp * yCusp * deltaX\n",
    "        if (deltaEnergy > 0.0):\n",
    "            minEnergy = energy\n",
    "        else:\n",
    "            maxEnergy = energy\n",
    "        # Prevent energy to go out of bounds, i.e. energy > maxEnergy or energy < minEnergy\n",
    "        # (might happen far from convergence)\n",
    "        energy = max(min(energy + deltaEnergy, maxEnergy), minEnergy)\n",
    "        if verbose:\n",
    "                formatString = \"{0:10d}\\t{1:10.10f}\\t{2:10.10f}\\t{3:10.10f}\\t{4:10.10f}\\t{5:10d}\\t{6:10d}\" \n",
    "                print(formatString.format(numberOfIterations, energy, minEnergy, maxEnergy, deltaEnergy,\n",
    "                                          yNodes, numberOfNodes))\n",
    "        # Convergence check     \n",
    "        if abs(deltaEnergy) < tolerance:\n",
    "            break\n",
    "    return energy, y\n",
    "\n",
    "zeta = 1\n",
    "new_uniformMesh = np.linspace(0.0000001, 4.59, 1260)\n",
    "r = new_uniformMeshToLogorithmicMesh(new_uniformMesh, zeta)\n",
    "energy, y = new_solveRadialShrodingerEquation(1, 0, new_uniformMesh, coulombPotential, zeta)\n",
    "print('Энергия =', energy)\n",
    "xi = (r+1/zeta)**(0.5) * y\n",
    "plt.plot(r, xi)\n",
    "plt.title('Зависимость xi(r)')\n",
    "plt.xlim(0, 5)\n",
    "plt.xlabel('r')\n",
    "plt.ylabel('xi')\n",
    "plt.show()"
   ]
  },
  {
   "cell_type": "markdown",
   "metadata": {},
   "source": [
    "# Дополнительное задание:"
   ]
  },
  {
   "cell_type": "markdown",
   "metadata": {},
   "source": [
    "1) Поменяем граничные условия, отбросим член $((1.0 - zeta * r_0 / (l + 1))$. Так как при r->0 $\\chi \\sim r^{l+1}, y \\sim r^{l+0.5}$. Можно написать, что $y_0 = r_0*(l+0.5), y_1 = r_1*(l+0.5)$"
   ]
  },
  {
   "cell_type": "code",
   "execution_count": 23,
   "metadata": {},
   "outputs": [
    {
     "data": {
      "image/png": "[encoded data removed]",
      "text/plain": [
       "<Figure size 432x288 with 1 Axes>"
      ]
     },
     "metadata": {
      "needs_background": "light"
     },
     "output_type": "display_data"
    }
   ],
   "source": [
    "def nzc_solveRadialShrodingerEquation(n, l, uniformMesh, potential, zeta,\n",
    "                                  maximumNumberOfInterations = 100,\n",
    "                                  tolerance = 1E-10,\n",
    "                                  verbose=False):\n",
    "    \"\"\"\n",
    "    Solve the schroedinger equation in radial coordinates on a \n",
    "    logarithmic grid by Numerov method - atomic (Ry) units\n",
    "    \"\"\"\n",
    "    deltaX = uniformMesh[1] - uniformMesh[0]\n",
    "    meshSize = len(uniformMesh)\n",
    "    r = uniformMeshToLogorithmicMesh(uniformMesh, zeta)\n",
    "    centrifugalPotential = (l + 0.5)**2 / r**2\n",
    "    numberOfNodes = n - l - 1\n",
    "    \n",
    "    # Set (very rough) initial lower and upper bounds to the eigenvalue\n",
    "    maxEnergy  = potential(r, zeta)[-1]\n",
    "    minEnergy = min(potential(r, zeta) + centrifugalPotential)\n",
    "\n",
    "    energy = 0.5 * (minEnergy + maxEnergy)\n",
    "\n",
    "    # Print header\n",
    "    if verbose:\n",
    "        print(\"(Number Of Iterations)(Energy)(Minimum energy)(Maximum Energy)\" \n",
    "              + \"(Delta energy)(Current number of nodes)(Target number of nodes)\")\n",
    "    \n",
    "    y = np.zeros(meshSize)\n",
    "    numberOfIterations = 0\n",
    "    while numberOfIterations < maximumNumberOfInterations:\n",
    "        numberOfIterations += 1\n",
    "        # Set up the g-function \n",
    "        # Determine the position of g last change of sign\n",
    "        # g < 0 (approximately) means classically allowed   region\n",
    "        # g > 0         \"         \"        \"      forbidden   \"\n",
    "        g = (r**2 * (energy - potential(r, zeta)) - (l + 0.5)**2) \n",
    "        f = 1 + g * deltaX**2 / 12.0\n",
    "        turningPointIndex = getTurningPointIndex(uniformMesh, g)\n",
    "        \n",
    "        if turningPointIndex == -1 or turningPointIndex == (meshSize - 1):\n",
    "            maxEnergy = energy\n",
    "            energy = (minEnergy + maxEnergy) / 2.0\n",
    "            continue\n",
    "        \n",
    "        numberOfNodes = n - l - 1\n",
    "        errorMessage = \"Number of nodes should be greater or equal to zero.\"\n",
    "        errorMessage += \"Please, chose right n, l quantum numbers!\"\n",
    "        assert numberOfNodes >= 0, errorMessage \n",
    "        # Determination of the wave-function in the first two points\n",
    "        # (assymtotic behavior - second term depends upon potential)\n",
    "        y0 = r[0]**(l+0.5) \n",
    "        y1 = r[1]**(l+0.5)\n",
    "        # Outward integration, count number of crossings\n",
    "        y[:(turningPointIndex+1)] = numerovIntegrationScheme(g[:(turningPointIndex+1)], y0, y1, deltaX)\n",
    "        yLeft = y[turningPointIndex]\n",
    "        yNodes = howManyNodes(y[:turningPointIndex]) \n",
    "        if  yNodes != numberOfNodes:\n",
    "            if yNodes > numberOfNodes:\n",
    "                maxEnergy = energy\n",
    "                energy = (minEnergy + maxEnergy) / 2.0\n",
    "            else:\n",
    "                minEnergy = energy\n",
    "                energy = (minEnergy + maxEnergy) / 2.0\n",
    "            if verbose:\n",
    "                formatString = \"{0:10d}\\t{1:10.10f}\\t{2:10.10f}\\t{3:10.10f}\\t{4:10s}\\t{5:10d}\\t{6:10d}\" \n",
    "                print(formatString.format(numberOfIterations, energy, minEnergy, maxEnergy, \"---\",\n",
    "                                          yNodes, numberOfNodes))\n",
    "            continue           \n",
    "        # Determination of the wave-function in the last two points\n",
    "        # Assuming y[mesh+1] = 0 and y[mesh] = dx\n",
    "        y0 = deltaX \n",
    "        y1 = (12.0 - 10.0 * f[-1]) * y0 / f[-1]\n",
    "        # Inward integration\n",
    "        y[turningPointIndex:] = numerovIntegrationSchemeReverse(g[turningPointIndex:], y0, y1, deltaX)\n",
    "        yRight = y[turningPointIndex]\n",
    "        # Scaling wave function \n",
    "        y[turningPointIndex:] *= yLeft / yRight\n",
    "        # Normalizing  wave fucntion\n",
    "        y = normalizeWF(y, r, deltaX)\n",
    "        # Find the value of the cusp at the matching point (turning point)\n",
    "        i = turningPointIndex\n",
    "        yCusp = (y[i-1] * f[i-1] + f[i+1] * y[i+1] + 10.0 * f[i] * y[i]) / 12.0\n",
    "        deltaFCusp = f[i] * (y[i] / yCusp - 1.0)\n",
    "        # Eigenvalue update using perturbation theory\n",
    "        deltaEnergy = deltaFCusp * 12.0 / deltaX**2 * yCusp * yCusp * deltaX\n",
    "        if (deltaEnergy > 0.0):\n",
    "            minEnergy = energy\n",
    "        else:\n",
    "            maxEnergy = energy\n",
    "        # Prevent energy to go out of bounds, i.e. energy > maxEnergy or energy < minEnergy\n",
    "        # (might happen far from convergence)\n",
    "        energy = max(min(energy + deltaEnergy, maxEnergy), minEnergy)\n",
    "        if verbose:\n",
    "                formatString = \"{0:10d}\\t{1:10.10f}\\t{2:10.10f}\\t{3:10.10f}\\t{4:10.10f}\\t{5:10d}\\t{6:10d}\" \n",
    "                print(formatString.format(numberOfIterations, energy, minEnergy, maxEnergy, deltaEnergy,\n",
    "                                          yNodes, numberOfNodes))\n",
    "        # Convergence check     \n",
    "        if abs(deltaEnergy) < tolerance:\n",
    "            break\n",
    "    \n",
    "    \n",
    "    return energy, y\n",
    "\n",
    "zeta = 1\n",
    "r = uniformMeshToLogorithmicMesh(uniformMesh, zeta)\n",
    "uniformMesh = np.linspace(-8, 4.59, 1260)\n",
    "energy, y = nzc_solveRadialShrodingerEquation(1, 0, uniformMesh, coulombPotential, 1)\n",
    "xi = r**(0.5) * y\n",
    "plt.plot(r, xi)\n",
    "plt.title('Зависимость xi(r)')\n",
    "plt.xlim(0, 20)\n",
    "plt.xlabel('r')\n",
    "plt.ylabel('xi')\n",
    "plt.show()\n",
    "\n"
   ]
  },
  {
   "cell_type": "markdown",
   "metadata": {},
   "source": [
    "Видно, что изменение начальных условий не отразились на качестве результатов. "
   ]
  },
  {
   "cell_type": "markdown",
   "metadata": {},
   "source": [
    "2) Сравнили сходимость, когда использовали ТВ и разрыв в первой производной. "
   ]
  },
  {
   "cell_type": "code",
   "execution_count": 24,
   "metadata": {},
   "outputs": [],
   "source": [
    "def getFirstDerivativeDiscontinuity(y, g, deltaX, turningPointIndex):\n",
    "    \"\"\"\n",
    "    \"\"\"\n",
    "    f = 1 + g * (deltaX)**2 / 12.0\n",
    "    firstDerivativeDiscontinuity = (y[turningPointIndex - 1] + y[turningPointIndex + 1] \n",
    "                                    - (14.0 - 12.0 * f[turningPointIndex]) * y[turningPointIndex]) / deltaX \n",
    "    return firstDerivativeDiscontinuity\n",
    "\n",
    "def firstdergap_solveRadialShrodingerEquation(n, l, uniformMesh, potential, zeta,\n",
    "                                  maximumNumberOfInterations = 100,\n",
    "                                  tolerance = 1E-6,\n",
    "                                  verbose=False, convergence=False):\n",
    "    \"\"\"\n",
    "    Solve the schroedinger equation in radial coordinates on a \n",
    "    logarithmic grid by Numerov method - atomic (Ry) units\n",
    "    \"\"\"\n",
    "    deltaX = uniformMesh[1] - uniformMesh[0]\n",
    "    meshSize = len(uniformMesh)\n",
    "    r = uniformMeshToLogorithmicMesh(uniformMesh, zeta)\n",
    "    centrifugalPotential = (l + 0.5)**2 / r**2\n",
    "    numberOfNodes = n - l - 1\n",
    "    Energy = []\n",
    "    Iterations = []\n",
    "    \n",
    "    # Set (very rough) initial lower and upper bounds to the eigenvalue\n",
    "    maxEnergy  = potential(r, zeta)[-1]\n",
    "    minEnergy = min(potential(r, zeta) + centrifugalPotential)\n",
    "\n",
    "    energy = (minEnergy + maxEnergy)/2.0\n",
    "\n",
    "    # Print header\n",
    "    if verbose:\n",
    "        print(\"(Number Of Iterations)(Energy)(Minimum energy)(Maximum Energy)\" \n",
    "              + \"(Delta energy)(Current number of nodes)(Target number of nodes)\")\n",
    "    \n",
    "    y = np.zeros(meshSize)\n",
    "    numberOfIterations = 0\n",
    "    Iterations.append(numberOfIterations)\n",
    "    Energy.append(energy)\n",
    "    while numberOfIterations < maximumNumberOfInterations:\n",
    "        numberOfIterations += 1\n",
    "        # Set up the g-function \n",
    "        # Determine the position of g last change of sign\n",
    "        # g < 0 (approximately) means classically allowed   region\n",
    "        # g > 0         \"         \"        \"      forbidden   \"\n",
    "        g = (r**2 * (energy - potential(r, zeta)) - (l + 0.5)**2) \n",
    "        f = 1 + g * deltaX**2 / 12.0\n",
    "        turningPointIndex = getTurningPointIndex(uniformMesh, g)\n",
    "        \n",
    "        #if turningPointIndex == -1 or turningPointIndex == (meshSize - 1):\n",
    "        #    maxEnergy = energy\n",
    "        #    energy = (minEnergy + maxEnergy) / 2.0\n",
    "        #    continue\n",
    "        \n",
    "        numberOfNodes = n - l - 1\n",
    "        errorMessage = \"Number of nodes should be greater or equal to zero.\"\n",
    "        errorMessage += \"Please, chose right n, l quantum numbers!\"\n",
    "        assert numberOfNodes >= 0, errorMessage \n",
    "        # Determination of the wave-function in the first two points\n",
    "        # (assymtotic behavior - second term depends upon potential)\n",
    "        y0 = r[0]**(l+0.5) * (1.0 - 2.0 * zeta * r[0] / (2 * l + 2))\n",
    "        y1 = r[1]**(l+0.5) * (1.0 - 2.0 * zeta * r[1] / (2 * l + 2))\n",
    "        # Outward integration, count number of crossings\n",
    "        y[:(turningPointIndex+1)] = numerovIntegrationScheme(g[:(turningPointIndex+1)], y0, y1, deltaX)\n",
    "        yLeft = y[turningPointIndex]\n",
    "        yNodes = howManyNodes(y[:turningPointIndex]) \n",
    "        if  yNodes != numberOfNodes:\n",
    "            Iterations.append(numberOfIterations)\n",
    "            if yNodes > numberOfNodes:\n",
    "                maxEnergy = energy\n",
    "                energy = (minEnergy + maxEnergy) / 2.0\n",
    "                Energy.append(energy)\n",
    "            else:\n",
    "                minEnergy = energy\n",
    "                energy = (minEnergy + maxEnergy) / 2.0\n",
    "                Energy.append(energy)\n",
    "            if verbose:\n",
    "                print('Hello', maxEnergy, minEnergy)\n",
    "                formatString = \"{0:10d}\\t{1:10.10f}\\t{2:10.10f}\\t{3:10.10f}\\t{4:10s}\\t{5:10d}\\t{6:10d}\" \n",
    "                print(formatString.format(numberOfIterations, energy, minEnergy, maxEnergy, \"---\",\n",
    "                                          yNodes, numberOfNodes))\n",
    "            continue           \n",
    "        # Determination of the wave-function in the last two points\n",
    "        # Assuming y[mesh+1] = 0 and y[mesh] = dx\n",
    "        y0 = deltaX \n",
    "        y1 = (12.0 - 10.0 * f[-1]) * y0 / f[-1]\n",
    "        # Inward integration\n",
    "        y[turningPointIndex:] = numerovIntegrationSchemeReverse(g[turningPointIndex:], y0, y1, deltaX)\n",
    "        yRight = y[turningPointIndex]\n",
    "        # Scaling wave function \n",
    "        y[turningPointIndex:] *= yLeft / yRight\n",
    "        # Normalizing  wave fucntion\n",
    "        y = normalizeWF(y, r, deltaX)\n",
    "        # Find the value of the cusp at the matching point (turning point)\n",
    "        \n",
    "        firstDerivativeDiscontinuity = getFirstDerivativeDiscontinuity(y, g, deltaX, turningPointIndex)                        \n",
    "        \n",
    "        if (firstDerivativeDiscontinuity * y[turningPointIndex] <= 0):\n",
    "                minEnergy = energy\n",
    "        else: \n",
    "                maxEnergy = energy  \n",
    "                \n",
    "        energy = (minEnergy + maxEnergy) / 2.0\n",
    "        \n",
    "        if verbose:\n",
    "                formatString = \"{0:10d}\\t{1:10.10f}\\t{2:10.10f}\\t{3:10.10f}\\t{4:10.10f}\\t{5:10d}\\t{6:10d}\" \n",
    "                print(formatString.format(numberOfIterations, energy, minEnergy, maxEnergy, abs(maxEnergy - minEnergy),\n",
    "                    yNodes, numberOfNodes))\n",
    "                \n",
    "        Iterations.append(numberOfIterations)\n",
    "        Energy.append(energy)\n",
    "        # Convergence check     \n",
    "        if abs(maxEnergy - minEnergy) < tolerance:\n",
    "            break\n",
    "    if convergence == True:\n",
    "        return energy, y, Iterations, Energy\n",
    "    else:\n",
    "        return energy, y\n",
    "   "
   ]
  },
  {
   "cell_type": "code",
   "execution_count": 26,
   "metadata": {},
   "outputs": [
    {
     "data": {
      "image/png": "[encoded data removed]",
      "text/plain": [
       "<Figure size 432x288 with 1 Axes>"
      ]
     },
     "metadata": {
      "needs_background": "light"
     },
     "output_type": "display_data"
    },
    {
     "data": {
      "image/png": "[encoded data removed]",
      "text/plain": [
       "<Figure size 432x288 with 1 Axes>"
      ]
     },
     "metadata": {
      "needs_background": "light"
     },
     "output_type": "display_data"
    },
    {
     "data": {
      "image/png": "[encoded data removed]",
      "text/plain": [
       "<Figure size 432x288 with 1 Axes>"
      ]
     },
     "metadata": {
      "needs_background": "light"
     },
     "output_type": "display_data"
    }
   ],
   "source": [
    "zeta = 1\n",
    "r = uniformMeshToLogorithmicMesh(uniformMesh, 1)\n",
    "uniformMesh = np.linspace(-8, 4.59, 1260)\n",
    "n =5\n",
    "l = 4\n",
    "\n",
    "energy, TV_y, TV_Iterations, TV_Energy = solveRadialShrodingerEquation(n, l, uniformMesh, coulombPotential, 1, convergence=True)\n",
    "plt.plot(TV_Iterations, TV_Energy)\n",
    "plt.title('Сходимость, применение теории возмущения')\n",
    "plt.xlabel('Число итераций')\n",
    "plt.ylabel('Энергия')\n",
    "plt.show()\n",
    "\n",
    "energy, FGD_y, FGD_Iterations, FGD_Energy = firstdergap_solveRadialShrodingerEquation(n, l, uniformMesh, coulombPotential, 1, convergence=True)\n",
    "plt.plot(FGD_Iterations, FGD_Energy)\n",
    "plt.title('Сходимость, применение метода сшивки производных')\n",
    "plt.xlabel('Число итераций')\n",
    "plt.ylabel('Энергия')\n",
    "plt.show()\n",
    "\n",
    "\n",
    "plt.plot(r, TV_y, 'b', label = 'теория возмущений')\n",
    "plt.plot(r, FGD_y, 'r', label = 'сшивка производных')\n",
    "plt.title('y(r)')\n",
    "plt.legend()\n",
    "plt.xlabel('r')\n",
    "plt.ylabel('y')\n",
    "plt.xlim(0,10)\n",
    "plt.show()"
   ]
  },
  {
   "cell_type": "markdown",
   "metadata": {},
   "source": [
    "Видно, что ВФ в обоих случаях одинаковая. Метод ТВ обеспечивает более быструю сходимость. Энергия почти не меняется уже на 4-5 шаге. Что касается второго метода, основанного на сшивки первой производной, по сходимости он отстает от первого метода на 2-3 шага (в зависимости от n). Следовательно, он тожк применим. "
   ]
  },
  {
   "cell_type": "code",
   "execution_count": null,
   "metadata": {},
   "outputs": [],
   "source": []
  }
 ],
 "metadata": {
  "kernelspec": {
   "display_name": "Python 3",
   "language": "python",
   "name": "python3"
  },
  "language_info": {
   "codemirror_mode": {
    "name": "ipython",
    "version": 3
   },
   "file_extension": ".py",
   "mimetype": "text/x-python",
   "name": "python",
   "nbconvert_exporter": "python",
   "pygments_lexer": "ipython3",
   "version": "3.7.4"
  }
 },
 "nbformat": 4,
 "nbformat_minor": 2
}
