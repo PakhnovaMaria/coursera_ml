{
 "cells": [
  {
   "cell_type": "code",
   "execution_count": 20,
   "metadata": {},
   "outputs": [],
   "source": [
    "file = open('water.txt', 'r')\n",
    "A = file.readlines()"
   ]
  },
  {
   "cell_type": "code",
   "execution_count": 21,
   "metadata": {},
   "outputs": [
    {
     "name": "stdout",
     "output_type": "stream",
     "text": [
      "[1247.0, 1668.0, 1466.0, 1800.0, 1609.0, 1558.0, 1807.0, 1299.0, 1637.0, 1359.0, 1392.0, 1755.0, 1519.0, 1307.0, 1254.0, 1491.0, 1555.0, 1428.0, 1318.0, 1260.0, 1723.0, 1379.0, 1742.0, 1574.0, 1569.0, 1096.0, 1591.0, 1402.0, 1772.0, 1828.0, 1704.0, 1702.0, 1581.0, 1309.0, 1259.0, 1427.0, 1724.0, 1175.0, 1486.0, 1456.0, 1696.0, 1236.0, 1711.0, 1444.0, 1591.0, 1987.0, 1495.0, 1369.0, 1257.0, 1587.0, 1713.0, 1557.0, 1640.0, 1709.0, 1625.0, 1625.0, 1527.0, 1627.0, 1486.0, 1485.0, 1378.0]\n"
     ]
    }
   ],
   "source": [
    "Location =[]\n",
    "Town = []\n",
    "Depth = [] \n",
    "Hardness = []\n",
    "for i in range(1, len(A)):\n",
    "    #print(A[i].split())\n",
    "    a, b, c, d = A[i].split()\n",
    "    Location.append(a)\n",
    "    Town.append(b)\n",
    "    Depth.append(float(c))\n",
    "    Hardness.append(float(d))\n",
    "    \n",
    "print(Depth)\n",
    "N = len(Location)"
   ]
  },
  {
   "cell_type": "code",
   "execution_count": 22,
   "metadata": {},
   "outputs": [],
   "source": [
    "import numpy as np\n",
    "from statsmodels.stats.weightstats import _zconfint_generic, _tconfint_generic"
   ]
  },
  {
   "cell_type": "code",
   "execution_count": 39,
   "metadata": {},
   "outputs": [
    {
     "name": "stdout",
     "output_type": "stream",
     "text": [
      "375.3375078629142\n",
      "Mean =  1524.1475409836066\n",
      "Low boundry =  1477.05259956449\n",
      "sgd model mean auc 95%% confidence interval (1476.0833413552848, 1572.2117406119285)\n"
     ]
    }
   ],
   "source": [
    "Depth_np = np.array(Depth)\n",
    "print(2*Depth_np.std(ddof=1))\n",
    "print('Mean = ', Depth_np.mean())\n",
    "Mean = Depth_np.mean()\n",
    "Mean_std = Depth_np.std(ddof=1)\n",
    "print('Low boundry = ', Depth_np.mean() - 1.95996*Depth_np.std(ddof=1)* N**(-1/2))\n",
    "print(\"sgd model mean auc 95%% confidence interval\", _tconfint_generic(Mean, Mean_std/np.sqrt(len(Depth_np)), len(Depth_np)-1, 0.05, 'two-sided'))"
   ]
  },
  {
   "cell_type": "code",
   "execution_count": 40,
   "metadata": {},
   "outputs": [
    {
     "name": "stdout",
     "output_type": "stream",
     "text": [
      "280.53835059372216\n",
      "Mean =  1376.8076923076924\n",
      "High boundry =  1430.7243270807028\n",
      "sgd model mean auc 95%% confidence interval (1320.1517462936238, 1433.463638321761)\n"
     ]
    }
   ],
   "source": [
    "Depth_s = []\n",
    "Depth_n = []\n",
    "for i in range(len(Location)):\n",
    "    if Location[i]  == 'South':\n",
    "        Depth_s.append(float(Depth[i]))\n",
    "    else:\n",
    "        Depth_n.append(float(Depth[i]))\n",
    "        \n",
    "Depth_s_np = np.array(Depth_s)\n",
    "print(2*Depth_s_np.std(ddof=1))\n",
    "print('Mean = ', Depth_s_np.mean())\n",
    "Mean_s = Depth_s_np.mean()\n",
    "Mean_std_s = Depth_s_np.std(ddof=1)\n",
    "print('High boundry = ', Depth_s_np.mean() + 1.95996*Depth_s_np.std(ddof=1)* len(Depth_s_np)**(-1/2))\n",
    "print(\"sgd model mean auc 95%% confidence interval\", _tconfint_generic(Mean_s, Mean_std_s/np.sqrt(len(Depth_s_np)), len(Depth_s_np)-1, 0.05, 'two-sided'))"
   ]
  },
  {
   "cell_type": "code",
   "execution_count": 41,
   "metadata": {},
   "outputs": [
    {
     "name": "stdout",
     "output_type": "stream",
     "text": [
      "273.8738223858485\n",
      "Mean =  1633.6\n",
      "Low boundry =  1331.4413554255577\n",
      "sgd model mean auc 95%% confidence interval (1586.5605251961385, 1680.6394748038613)\n"
     ]
    }
   ],
   "source": [
    "Depth_n_np = np.array(Depth_n)\n",
    "Mean_n = Depth_n_np.mean()\n",
    "Mean_std_n = Depth_n_np.std(ddof=1)\n",
    "print(2*Depth_n_np.std(ddof=1))\n",
    "print('Mean = ', Depth_n_np.mean())\n",
    "print('Low boundry = ', Depth_s_np.mean() - 1.95996*Depth_n_np.std(ddof=1)* len(Depth_n_np)**(-1/2))\n",
    "print(\"sgd model mean auc 95%% confidence interval\", _tconfint_generic(Mean_n, Mean_std_n/np.sqrt(len(Depth_n_np)),  len(Depth_n_np)-1, 0.05, 'two-sided'))"
   ]
  },
  {
   "cell_type": "code",
   "execution_count": 42,
   "metadata": {},
   "outputs": [
    {
     "name": "stdout",
     "output_type": "stream",
     "text": [
      "80.72136310505702\n",
      "Mean =  69.76923076923077\n",
      "low boundry =  54.25540086432109\n",
      "sgd model mean auc 95%% confidence interval (21.42248728572426, 39.37751271427574)\n",
      "sgd model mean auc 95%% confidence interval (53.467198692036106, 86.07126284642544)\n"
     ]
    }
   ],
   "source": [
    "Hard_s = []\n",
    "Hard_n = []\n",
    "for i in range(len(Location)):\n",
    "    if Location[i]  == 'South':\n",
    "        Hard_s.append(float(Hardness[i]))\n",
    "    else:\n",
    "        Hard_n.append(float(Hardness[i]))\n",
    "        \n",
    "Hard_s_np = np.array(Hard_s)\n",
    "Mean_s_hard = Hard_s_np.mean()\n",
    "Mean_std_s_hard = Hard_s_np.std(ddof=1)\n",
    "\n",
    "Hard_n_np = np.array(Hard_n)\n",
    "Mean_n_hard = Hard_n_np.mean()\n",
    "Mean_std_n_hard = Hard_n_np.std(ddof=1)\n",
    "\n",
    "print(2*Hard_s_np.std(ddof=1))\n",
    "print('Mean = ', Hard_s_np.mean())\n",
    "print('low boundry = ', Hard_s_np.mean() - 1.95996*Hard_s_np.std(ddof=1)* len(Hard_s_np)**(-1/2))\n",
    "\n",
    "print(\"sgd model mean auc 95%% confidence interval\", _tconfint_generic(Mean_n_hard, Mean_std_n_hard/np.sqrt(len(Hard_n_np)), len(Hard_n_np)-1, 0.05, 'two-sided'))\n",
    "print(\"sgd model mean auc 95%% confidence interval\", _tconfint_generic(Mean_s_hard, Mean_std_s_hard/np.sqrt(len(Hard_s_np)), len(Hard_s_np)-1, 0.05, 'two-sided'))"
   ]
  },
  {
   "cell_type": "code",
   "execution_count": 54,
   "metadata": {},
   "outputs": [
    {
     "name": "stdout",
     "output_type": "stream",
     "text": [
      "high boundry =  39.05819331226989\n",
      "Mean =  30.4\n"
     ]
    }
   ],
   "source": [
    "Hard_n_np = np.array(Hard_n)\n",
    "print('high boundry = ',Hard_n_np.mean() + 1.95996*Hard_n_np.std(ddof=1)* len(Hard_n_np)**(-1/2))\n",
    "print('Mean = ', Hard_n_np.mean())"
   ]
  },
  {
   "cell_type": "code",
   "execution_count": null,
   "metadata": {},
   "outputs": [],
   "source": []
  },
  {
   "cell_type": "code",
   "execution_count": 31,
   "metadata": {},
   "outputs": [],
   "source": [
    "import pandas as pd"
   ]
  },
  {
   "cell_type": "code",
   "execution_count": 32,
   "metadata": {},
   "outputs": [],
   "source": [
    "data = pd.DataFrame()\n",
    "data['location'] = Location\n",
    "data['town'] = Town\n",
    "data['molarity'] = Depth\n",
    "data['hardness'] = Hardness"
   ]
  },
  {
   "cell_type": "code",
   "execution_count": 33,
   "metadata": {},
   "outputs": [
    {
     "data": {
      "text/html": [
       "<div>\n",
       "<style scoped>\n",
       "    .dataframe tbody tr th:only-of-type {\n",
       "        vertical-align: middle;\n",
       "    }\n",
       "\n",
       "    .dataframe tbody tr th {\n",
       "        vertical-align: top;\n",
       "    }\n",
       "\n",
       "    .dataframe thead th {\n",
       "        text-align: right;\n",
       "    }\n",
       "</style>\n",
       "<table border=\"1\" class=\"dataframe\">\n",
       "  <thead>\n",
       "    <tr style=\"text-align: right;\">\n",
       "      <th></th>\n",
       "      <th>location</th>\n",
       "      <th>town</th>\n",
       "      <th>molarity</th>\n",
       "      <th>hardness</th>\n",
       "    </tr>\n",
       "  </thead>\n",
       "  <tbody>\n",
       "    <tr>\n",
       "      <th>0</th>\n",
       "      <td>South</td>\n",
       "      <td>Bath</td>\n",
       "      <td>1247.0</td>\n",
       "      <td>105.0</td>\n",
       "    </tr>\n",
       "    <tr>\n",
       "      <th>1</th>\n",
       "      <td>North</td>\n",
       "      <td>Birkenhead</td>\n",
       "      <td>1668.0</td>\n",
       "      <td>17.0</td>\n",
       "    </tr>\n",
       "    <tr>\n",
       "      <th>2</th>\n",
       "      <td>South</td>\n",
       "      <td>Birmingham</td>\n",
       "      <td>1466.0</td>\n",
       "      <td>5.0</td>\n",
       "    </tr>\n",
       "    <tr>\n",
       "      <th>3</th>\n",
       "      <td>North</td>\n",
       "      <td>Blackburn</td>\n",
       "      <td>1800.0</td>\n",
       "      <td>14.0</td>\n",
       "    </tr>\n",
       "    <tr>\n",
       "      <th>4</th>\n",
       "      <td>North</td>\n",
       "      <td>Blackpool</td>\n",
       "      <td>1609.0</td>\n",
       "      <td>18.0</td>\n",
       "    </tr>\n",
       "    <tr>\n",
       "      <th>...</th>\n",
       "      <td>...</td>\n",
       "      <td>...</td>\n",
       "      <td>...</td>\n",
       "      <td>...</td>\n",
       "    </tr>\n",
       "    <tr>\n",
       "      <th>56</th>\n",
       "      <td>South</td>\n",
       "      <td>Walsall</td>\n",
       "      <td>1527.0</td>\n",
       "      <td>60.0</td>\n",
       "    </tr>\n",
       "    <tr>\n",
       "      <th>57</th>\n",
       "      <td>South</td>\n",
       "      <td>WestBromwich</td>\n",
       "      <td>1627.0</td>\n",
       "      <td>53.0</td>\n",
       "    </tr>\n",
       "    <tr>\n",
       "      <th>58</th>\n",
       "      <td>South</td>\n",
       "      <td>WestHam</td>\n",
       "      <td>1486.0</td>\n",
       "      <td>122.0</td>\n",
       "    </tr>\n",
       "    <tr>\n",
       "      <th>59</th>\n",
       "      <td>South</td>\n",
       "      <td>Wolverhampton</td>\n",
       "      <td>1485.0</td>\n",
       "      <td>81.0</td>\n",
       "    </tr>\n",
       "    <tr>\n",
       "      <th>60</th>\n",
       "      <td>North</td>\n",
       "      <td>York</td>\n",
       "      <td>1378.0</td>\n",
       "      <td>71.0</td>\n",
       "    </tr>\n",
       "  </tbody>\n",
       "</table>\n",
       "<p>61 rows × 4 columns</p>\n",
       "</div>"
      ],
      "text/plain": [
       "   location           town  molarity  hardness\n",
       "0     South           Bath    1247.0     105.0\n",
       "1     North     Birkenhead    1668.0      17.0\n",
       "2     South     Birmingham    1466.0       5.0\n",
       "3     North      Blackburn    1800.0      14.0\n",
       "4     North      Blackpool    1609.0      18.0\n",
       "..      ...            ...       ...       ...\n",
       "56    South        Walsall    1527.0      60.0\n",
       "57    South   WestBromwich    1627.0      53.0\n",
       "58    South        WestHam    1486.0     122.0\n",
       "59    South  Wolverhampton    1485.0      81.0\n",
       "60    North           York    1378.0      71.0\n",
       "\n",
       "[61 rows x 4 columns]"
      ]
     },
     "execution_count": 33,
     "metadata": {},
     "output_type": "execute_result"
    }
   ],
   "source": [
    "data"
   ]
  },
  {
   "cell_type": "code",
   "execution_count": 36,
   "metadata": {},
   "outputs": [
    {
     "data": {
      "text/plain": [
       "(1476.0833413552848, 1572.2117406119285)"
      ]
     },
     "execution_count": 36,
     "metadata": {},
     "output_type": "execute_result"
    }
   ],
   "source": [
    "_tconfint_generic(data.molarity.mean(), data.molarity.std(ddof=1) / np.sqrt(len(data)), len(data) - 1, 0.05, 'two-sided')"
   ]
  },
  {
   "cell_type": "code",
   "execution_count": 37,
   "metadata": {},
   "outputs": [
    {
     "name": "stdout",
     "output_type": "stream",
     "text": [
      "(1320.1517462936238, 1433.463638321761)\n"
     ]
    }
   ],
   "source": [
    "print(_tconfint_generic(data[data.location == 'South'].molarity.mean(), data[data.location == 'South'].molarity.std(ddof=1) / np.sqrt(len(data[data.location == 'South'])), len(data[data.location == 'South']) - 1, 0.05, 'two-sided'))"
   ]
  },
  {
   "cell_type": "code",
   "execution_count": 38,
   "metadata": {},
   "outputs": [
    {
     "name": "stdout",
     "output_type": "stream",
     "text": [
      "(1586.5605251961385, 1680.6394748038613)\n"
     ]
    }
   ],
   "source": [
    "print(_tconfint_generic(data[data.location == 'North'].molarity.mean(), data[data.location == 'North'].molarity.std(ddof=1) / np.sqrt(len(data[data.location == 'North'])), len(data[data.location == 'North']) - 1, 0.05, 'two-sided'))"
   ]
  },
  {
   "cell_type": "code",
   "execution_count": 35,
   "metadata": {},
   "outputs": [
    {
     "name": "stdout",
     "output_type": "stream",
     "text": [
      "(53.467198692036106, 86.07126284642544)\n",
      "(21.42248728572426, 39.37751271427574)\n"
     ]
    }
   ],
   "source": [
    "print(_tconfint_generic(data[data.location == 'South'].hardness.mean(), data[data.location == 'South'].hardness.std(ddof=1) / np.sqrt(len(data[data.location == 'South'])), len(data[data.location == 'South']) - 1, 0.05, 'two-sided'))\n",
    "print(_tconfint_generic(data[data.location == 'North'].hardness.mean(), data[data.location == 'North'].hardness.std(ddof=1) / np.sqrt(len(data[data.location == 'North'])), len(data[data.location == 'North']) - 1, 0.05, 'two-sided'))"
   ]
  },
  {
   "cell_type": "code",
   "execution_count": null,
   "metadata": {},
   "outputs": [],
   "source": []
  }
 ],
 "metadata": {
  "kernelspec": {
   "display_name": "Python 3",
   "language": "python",
   "name": "python3"
  },
  "language_info": {
   "codemirror_mode": {
    "name": "ipython",
    "version": 3
   },
   "file_extension": ".py",
   "mimetype": "text/x-python",
   "name": "python",
   "nbconvert_exporter": "python",
   "pygments_lexer": "ipython3",
   "version": "3.7.5"
  }
 },
 "nbformat": 4,
 "nbformat_minor": 2
}
