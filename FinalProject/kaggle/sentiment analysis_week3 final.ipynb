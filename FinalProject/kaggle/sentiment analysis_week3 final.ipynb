{
 "cells": [
  {
   "cell_type": "code",
   "execution_count": 1,
   "metadata": {},
   "outputs": [],
   "source": [
    "from nltk.corpus import movie_reviews\n",
    "from sklearn.feature_extraction.text import CountVectorizer\n",
    "import numpy as np\n",
    "import pandas as pd\n",
    "import matplotlib.pyplot as plt\n",
    "from sklearn.metrics import confusion_matrix"
   ]
  },
  {
   "cell_type": "code",
   "execution_count": 2,
   "metadata": {},
   "outputs": [
    {
     "name": "stdout",
     "output_type": "stream",
     "text": [
      "(500, 2) (2000, 2) (500, 2)\n"
     ]
    }
   ],
   "source": [
    "# Считываем данные\n",
    "test = pd.read_csv('products_sentiment_test.tsv', sep='\\t')\n",
    "train = pd.read_csv('products_sentiment_train.tsv', sep='\\t',  header=None)\n",
    "classes = pd.read_csv('products_sentiment_sample_submission.csv')\n",
    "print(test.shape, train.shape, classes.shape)"
   ]
  },
  {
   "cell_type": "code",
   "execution_count": 3,
   "metadata": {},
   "outputs": [
    {
     "data": {
      "text/html": [
       "<div>\n",
       "<style scoped>\n",
       "    .dataframe tbody tr th:only-of-type {\n",
       "        vertical-align: middle;\n",
       "    }\n",
       "\n",
       "    .dataframe tbody tr th {\n",
       "        vertical-align: top;\n",
       "    }\n",
       "\n",
       "    .dataframe thead th {\n",
       "        text-align: right;\n",
       "    }\n",
       "</style>\n",
       "<table border=\"1\" class=\"dataframe\">\n",
       "  <thead>\n",
       "    <tr style=\"text-align: right;\">\n",
       "      <th></th>\n",
       "      <th>Id</th>\n",
       "      <th>text</th>\n",
       "    </tr>\n",
       "  </thead>\n",
       "  <tbody>\n",
       "    <tr>\n",
       "      <td>0</td>\n",
       "      <td>0</td>\n",
       "      <td>so , why the small digital elph , rather than ...</td>\n",
       "    </tr>\n",
       "    <tr>\n",
       "      <td>1</td>\n",
       "      <td>1</td>\n",
       "      <td>3/4 way through the first disk we played on it...</td>\n",
       "    </tr>\n",
       "    <tr>\n",
       "      <td>2</td>\n",
       "      <td>2</td>\n",
       "      <td>better for the zen micro is outlook compatibil...</td>\n",
       "    </tr>\n",
       "    <tr>\n",
       "      <td>3</td>\n",
       "      <td>3</td>\n",
       "      <td>6 . play gameboy color games on it with goboy .</td>\n",
       "    </tr>\n",
       "    <tr>\n",
       "      <td>4</td>\n",
       "      <td>4</td>\n",
       "      <td>likewise , i 've heard norton 2004 professiona...</td>\n",
       "    </tr>\n",
       "    <tr>\n",
       "      <td>...</td>\n",
       "      <td>...</td>\n",
       "      <td>...</td>\n",
       "    </tr>\n",
       "    <tr>\n",
       "      <td>495</td>\n",
       "      <td>495</td>\n",
       "      <td>i took perfect care of this player and still i...</td>\n",
       "    </tr>\n",
       "    <tr>\n",
       "      <td>496</td>\n",
       "      <td>496</td>\n",
       "      <td>it 's a very intuitive program .</td>\n",
       "    </tr>\n",
       "    <tr>\n",
       "      <td>497</td>\n",
       "      <td>497</td>\n",
       "      <td>the only drawback is the viewfinder is slightl...</td>\n",
       "    </tr>\n",
       "    <tr>\n",
       "      <td>498</td>\n",
       "      <td>498</td>\n",
       "      <td>it films 10 second video , for crying out loud .</td>\n",
       "    </tr>\n",
       "    <tr>\n",
       "      <td>499</td>\n",
       "      <td>499</td>\n",
       "      <td>everything shines of quality .</td>\n",
       "    </tr>\n",
       "  </tbody>\n",
       "</table>\n",
       "<p>500 rows × 2 columns</p>\n",
       "</div>"
      ],
      "text/plain": [
       "      Id                                               text\n",
       "0      0  so , why the small digital elph , rather than ...\n",
       "1      1  3/4 way through the first disk we played on it...\n",
       "2      2  better for the zen micro is outlook compatibil...\n",
       "3      3    6 . play gameboy color games on it with goboy .\n",
       "4      4  likewise , i 've heard norton 2004 professiona...\n",
       "..   ...                                                ...\n",
       "495  495  i took perfect care of this player and still i...\n",
       "496  496                  it 's a very intuitive program . \n",
       "497  497  the only drawback is the viewfinder is slightl...\n",
       "498  498   it films 10 second video , for crying out loud .\n",
       "499  499                     everything shines of quality .\n",
       "\n",
       "[500 rows x 2 columns]"
      ]
     },
     "execution_count": 3,
     "metadata": {},
     "output_type": "execute_result"
    }
   ],
   "source": [
    "test"
   ]
  },
  {
   "cell_type": "code",
   "execution_count": 5,
   "metadata": {
    "scrolled": true
   },
   "outputs": [
    {
     "data": {
      "image/png": "[encoded data removed]",
      "text/plain": [
       "<Figure size 720x576 with 1 Axes>"
      ]
     },
     "metadata": {
      "needs_background": "light"
     },
     "output_type": "display_data"
    }
   ],
   "source": [
    "# Смотрим распределение целевой переменной\n",
    "fig = plt.figure(figsize=(10, 8))\n",
    "y.value_counts(normalize=True).plot(kind='bar');\n",
    "plt.title(\"Распределение целевой переменной\");\n",
    "plt.xlabel(\"Отзыв\");\n",
    "plt.ylabel(\"Количество текстов\");"
   ]
  },
  {
   "cell_type": "code",
   "execution_count": 6,
   "metadata": {},
   "outputs": [
    {
     "name": "stdout",
     "output_type": "stream",
     "text": [
      "test =  mine was 2 weeks old and i chucked it in the trash , where it belongs . \n",
      "train =  you can manage your profile , change the contrast of backlight , make different type of display , either list or tabbed . \n"
     ]
    }
   ],
   "source": [
    "# Делаем из датафрейма сериес\n",
    "test = test['text']\n",
    "train = train[0]\n",
    "print('test = ', test.iloc[5])\n",
    "print('train = ', train.iloc[5])\n"
   ]
  },
  {
   "cell_type": "code",
   "execution_count": null,
   "metadata": {},
   "outputs": [],
   "source": [
    "# Смотрим количество фич\n",
    "cv = CountVectorizer()\n",
    "X = cv.fit_transform(train)\n",
    "print(X.shape[1])"
   ]
  },
  {
   "cell_type": "code",
   "execution_count": 7,
   "metadata": {},
   "outputs": [
    {
     "name": "stderr",
     "output_type": "stream",
     "text": [
      "[nltk_data] Downloading package stopwords to\n",
      "[nltk_data]     C:\\Users\\Lesika\\AppData\\Roaming\\nltk_data...\n",
      "[nltk_data]   Package stopwords is already up-to-date!\n"
     ]
    }
   ],
   "source": [
    "from sklearn.pipeline import Pipeline\n",
    "from sklearn.model_selection import cross_val_score\n",
    "from sklearn.feature_extraction.text import TfidfVectorizer\n",
    "from sklearn.ensemble import RandomForestClassifier\n",
    "from sklearn.model_selection import GridSearchCV\n",
    "from sklearn.base import TransformerMixin\n",
    "from sklearn.utils import shuffle\n",
    "from sklearn.linear_model import LogisticRegression, SGDClassifier, RidgeClassifier\n",
    "from sklearn.svm import LinearSVC\n",
    "from sklearn.feature_extraction.text import TfidfTransformer, CountVectorizer, TfidfVectorizer\n",
    "from sklearn.metrics import accuracy_score\n",
    "from sklearn.decomposition import PCA\n",
    "import nltk\n",
    "nltk.download('stopwords')\n",
    "stop = nltk.corpus.stopwords.words('english')\n"
   ]
  },
  {
   "cell_type": "code",
   "execution_count": null,
   "metadata": {},
   "outputs": [],
   "source": [
    "vectorizer = CountVectorizer(analyzer = \"word\",   \\\n",
    "                             tokenizer = None,    \\\n",
    "                             preprocessor = None, \\\n",
    "                             stop_words = stop,   \\\n",
    "                             max_features = 5000) \n",
    "\n",
    "\n",
    "#train_data_features = vectorizer.fit_transform(train)\n",
    "\n",
    "#train_data_features = train_data_features.toarray()\n",
    "#train_data_features.shape, y.shape"
   ]
  },
  {
   "cell_type": "code",
   "execution_count": null,
   "metadata": {},
   "outputs": [],
   "source": [
    "# строим пайплан и модель на линейной регрессии\n",
    "pipe = Pipeline([\n",
    "    ('сv', vectorizer),\n",
    "    ('logreg', LogisticRegression(solver = 'liblinear'))])\n",
    "accuracy = cross_val_score(pipe, train, y, cv=5, scoring='accuracy' )\n",
    "print('accuracy на линейной регрессии, при наличии стоп слов и без токинезации равно {}'.format(accuracy.mean()))"
   ]
  },
  {
   "cell_type": "code",
   "execution_count": null,
   "metadata": {},
   "outputs": [],
   "source": [
    "# Пробуем разные модели с разными параметрами"
   ]
  },
  {
   "cell_type": "code",
   "execution_count": null,
   "metadata": {},
   "outputs": [],
   "source": [
    "pipe = Pipeline([\n",
    "    ('сv', vectorizer),\n",
    "    ('forest', RandomForestClassifier(n_estimators = 100))])\n",
    "accuracy = cross_val_score(pipe, train, y, cv=5, scoring='accuracy' )\n",
    "print('accuracy на случайном лесе (100 эстиматоров), при наличии стоп слов и без токинезации равно {}'.format(accuracy.mean()))"
   ]
  },
  {
   "cell_type": "code",
   "execution_count": null,
   "metadata": {},
   "outputs": [],
   "source": [
    "pipe = Pipeline([\n",
    "    ('сv', vectorizer),\n",
    "    ('forest', RandomForestClassifier(n_estimators = 500))])\n",
    "accuracy = cross_val_score(pipe, train, y, cv=5, scoring='accuracy' )\n",
    "print('accuracy на случайном лесе (500 эстиматоров), при наличии стоп слов и без токинезации равно {}'.format(accuracy.mean()))"
   ]
  },
  {
   "cell_type": "code",
   "execution_count": null,
   "metadata": {},
   "outputs": [],
   "source": [
    "params_grid_vectorizer = {\n",
    "    'vectorizer__max_df' : [0.85, 0.9, 0.95, 1.0],\n",
    "    'vectorizer__min_df' : [1, 10, 20], \n",
    "    'vectorizer__ngram_range' : [(1, 1), (1, 2), (1, 3), (1, 4), (1, 5), (1, 6)],\n",
    "    'vectorizer__stop_words' : [stop, None, 'english']\n",
    "}"
   ]
  },
  {
   "cell_type": "code",
   "execution_count": 8,
   "metadata": {},
   "outputs": [],
   "source": [
    "def make_pipeline(vectorizer,  dense,pca, classifier):\n",
    "    return Pipeline([\n",
    "            ('vectorizer', vectorizer),\n",
    "            #('transformer', transformer),\n",
    "            ('dense',dense),\n",
    "            ('pca', pca),\n",
    "            ('classifier', classifier)\n",
    "        ])"
   ]
  },
  {
   "cell_type": "code",
   "execution_count": 9,
   "metadata": {},
   "outputs": [],
   "source": [
    "def make_estimator(classifier, params_grid, scorer, data, labels):\n",
    "    pipeline = make_pipeline(CountVectorizer(), TfidfTransformer(), classifier)\n",
    "    grid_cv = RandomizedSearchCV(pipeline, params_grid, scoring=scorer, cv=5, random_state=777, n_iter=100)\n",
    "    grid_cv.fit(data, labels)\n",
    "    return grid_cv"
   ]
  },
  {
   "cell_type": "code",
   "execution_count": 10,
   "metadata": {},
   "outputs": [],
   "source": [
    "class DenseTransformer(TransformerMixin):\n",
    "    def transform(self, X, y=None, **fit_params):\n",
    "        return X.todense()\n",
    "\n",
    "    def fit_transform(self, X, y=None, **fit_params):\n",
    "        self.fit(X, y, **fit_params)\n",
    "        return self.transform(X)\n",
    "\n",
    "    def fit(self, X, y=None, **fit_params):\n",
    "        return self"
   ]
  },
  {
   "cell_type": "code",
   "execution_count": null,
   "metadata": {},
   "outputs": [],
   "source": [
    "%%time\n",
    "for name, clf in {'LogisticRegression': LogisticRegression, 'LinearSVC': LinearSVC, \n",
    "               'SGDClassifier': SGDClassifier, 'RidgeClassifier': RidgeClassifier}.items():\n",
    "    score = cross_val_score(make_pipeline(CountVectorizer(), TfidfTransformer(), clf(random_state=777)), train, y, cv=5).mean()\n",
    "    print(f\"{name} - {score}\")"
   ]
  },
  {
   "cell_type": "code",
   "execution_count": null,
   "metadata": {},
   "outputs": [],
   "source": [
    "%%time\n",
    "models={}\n",
    "for name, clf in {'LogisticRegression': LogisticRegression, 'LinearSVC': LinearSVC, \n",
    "               'SGDClassifier': SGDClassifier, 'RidgeClassifier': RidgeClassifier}.items():\n",
    "    print(name)\n",
    "    models[name]=make_pipeline(CountVectorizer(), TfidfTransformer(), clf(random_state=777)).fit(train,y)\n",
    "    #models[name]=make_pipeline(CountVectorizer(), TfidfTransformer(), clf(random_state=777, class_weight='balanced')).fit(train,y)\n",
    "yp = models['LogisticRegression'].predict(train)\n",
    "confusion_matrix(y,yp)"
   ]
  },
  {
   "cell_type": "code",
   "execution_count": null,
   "metadata": {},
   "outputs": [],
   "source": [
    "array([[ 690,   36],\n",
    "       [ 140, 1134]], dtype=int64)"
   ]
  },
  {
   "cell_type": "code",
   "execution_count": null,
   "metadata": {},
   "outputs": [],
   "source": [
    "models['LogisticRegression'].fit(train,y)"
   ]
  },
  {
   "cell_type": "markdown",
   "metadata": {},
   "source": [
    "### Так как целевая переменная не сбалансирована, добавим 500 негативных отзывов в обучающую выборку и сравним результат."
   ]
  },
  {
   "cell_type": "code",
   "execution_count": null,
   "metadata": {},
   "outputs": [],
   "source": [
    "\n",
    "train = pd.read_csv('products_sentiment_train.tsv', sep='\\t',  header=None)\n",
    "train = shuffle(train.append(train.iloc[list(train[train[1] == 0].index[:500])]), random_state=10)\n",
    "y = train[1]\n",
    "X = train[0]\n",
    "y, X"
   ]
  },
  {
   "cell_type": "code",
   "execution_count": null,
   "metadata": {},
   "outputs": [],
   "source": [
    "# И снова прогоняем наши модели"
   ]
  },
  {
   "cell_type": "code",
   "execution_count": null,
   "metadata": {},
   "outputs": [],
   "source": [
    "%%time\n",
    "for name, clf in {'LogisticRegression': LogisticRegression, 'LinearSVC': LinearSVC, \n",
    "               'SGDClassifier': SGDClassifier, 'RidgeClassifier': RidgeClassifier}.items():\n",
    "    score = cross_val_score(make_pipeline(CountVectorizer(), TfidfTransformer(), clf(random_state=777)), X, y, cv=5).mean()\n",
    "    print(f\"{name} - {score}\")"
   ]
  },
  {
   "cell_type": "code",
   "execution_count": null,
   "metadata": {},
   "outputs": [],
   "source": [
    "%%time\n",
    "models={}\n",
    "for name, clf in {'LogisticRegression': LogisticRegression, 'LinearSVC': LinearSVC, \n",
    "               'SGDClassifier': SGDClassifier, 'RidgeClassifier': RidgeClassifier}.items():\n",
    "    models[name]=make_pipeline(CountVectorizer(), TfidfTransformer(), clf(random_state=777)).fit(X,y)\n",
    "    "
   ]
  },
  {
   "cell_type": "code",
   "execution_count": null,
   "metadata": {},
   "outputs": [],
   "source": [
    "yp = models['LogisticRegression'].predict(X)\n",
    "confusion_matrix(y,yp)"
   ]
  },
  {
   "cell_type": "code",
   "execution_count": null,
   "metadata": {},
   "outputs": [],
   "source": [
    "est = [145] #range(100, 200, 5)\n",
    "m_s = [2]#, 3, 4]\n",
    "regressor = RandomForestRegressor(random_state=0)\n",
    "grid = {'n_estimators': est, 'min_samples_split': m_s}\n",
    "gs = GridSearchCV(regressor, grid, scoring = 'neg_mean_squared_error', n_jobs = -1, verbose = 10 )\n",
    "gs.fit(scaler.fit_transform(X_train), y_train)\n",
    "y_pred = gs.predict(scaler.transform(X_test))\n",
    "t = mean_squared_error(y_test, y_pred)\n",
    "print(t, np.exp(t))\n",
    "gs.best_params_\n",
    "\n",
    "\n",
    "params_grid_lsvc = {\n",
    "    'classifier__loss': ['hinge', 'squared_hinge'], \n",
    "    'classifier__max_iter': np.arange(100, 1000, 50),\n",
    "    'classifier__tol': [1e-5, 1e-4, 1e-3],\n",
    "    'classifier__C': np.arange(0.1, 2, 0.1)"
   ]
  },
  {
   "cell_type": "code",
   "execution_count": null,
   "metadata": {},
   "outputs": [],
   "source": [
    "train.shape, y.shape"
   ]
  },
  {
   "cell_type": "code",
   "execution_count": null,
   "metadata": {},
   "outputs": [],
   "source": []
  },
  {
   "cell_type": "code",
   "execution_count": null,
   "metadata": {},
   "outputs": [],
   "source": [
    "# в этом месте я рыдаю, выкидываю все, что было раньше, и делаю все заново"
   ]
  },
  {
   "cell_type": "code",
   "execution_count": 11,
   "metadata": {},
   "outputs": [],
   "source": [
    "vectorizer = TfidfVectorizer(min_df=0.02, max_df=0.9, ngram_range=(3,12), sublinear_tf=True, analyzer='char_wb')\n",
    "classifier = LinearSVC()"
   ]
  },
  {
   "cell_type": "code",
   "execution_count": 12,
   "metadata": {},
   "outputs": [],
   "source": [
    "grid={\n",
    "    'classifier__loss': ['squared_hinge'], \n",
    "    'classifier__max_iter': np.arange(100, 1000, 50),\n",
    "    'classifier__tol': [1e-5],\n",
    "    'classifier__C': np.arange(0.1, 2, 0.1),\n",
    "    'classifier__penalty': ['l2'],\n",
    "    'classifier__class_weight': ['balanced', None],\n",
    "    'classifier__dual':[True, False]\n",
    "}"
   ]
  },
  {
   "cell_type": "code",
   "execution_count": 13,
   "metadata": {},
   "outputs": [],
   "source": [
    "pipeline = Pipeline([('vectorizer', vectorizer), \n",
    "                    ('DenseTransformer', DenseTransformer()),\n",
    "                     ('pca', PCA()),\n",
    "                    ('classifier', classifier)])"
   ]
  },
  {
   "cell_type": "code",
   "execution_count": 15,
   "metadata": {},
   "outputs": [
    {
     "name": "stderr",
     "output_type": "stream",
     "text": [
      "C:\\Users\\Lesika\\Anaconda3\\lib\\site-packages\\sklearn\\model_selection\\_split.py:1978: FutureWarning: The default value of cv will change from 3 to 5 in version 0.22. Specify it explicitly to silence this warning.\n",
      "  warnings.warn(CV_WARNING, FutureWarning)\n",
      "[Parallel(n_jobs=2)]: Using backend LokyBackend with 2 concurrent workers.\n"
     ]
    },
    {
     "name": "stdout",
     "output_type": "stream",
     "text": [
      "Fitting 3 folds for each of 1368 candidates, totalling 4104 fits\n"
     ]
    },
    {
     "name": "stderr",
     "output_type": "stream",
     "text": [
      "[Parallel(n_jobs=2)]: Done   1 tasks      | elapsed:    7.7s\n",
      "[Parallel(n_jobs=2)]: Done   4 tasks      | elapsed:   13.4s\n",
      "[Parallel(n_jobs=2)]: Done   9 tasks      | elapsed:   30.9s\n",
      "[Parallel(n_jobs=2)]: Done  14 tasks      | elapsed:   41.7s\n",
      "[Parallel(n_jobs=2)]: Done  21 tasks      | elapsed:  1.1min\n",
      "[Parallel(n_jobs=2)]: Done  28 tasks      | elapsed:  1.4min\n",
      "[Parallel(n_jobs=2)]: Done  37 tasks      | elapsed:  1.8min\n",
      "[Parallel(n_jobs=2)]: Done  46 tasks      | elapsed:  2.2min\n",
      "[Parallel(n_jobs=2)]: Done  57 tasks      | elapsed:  2.7min\n",
      "[Parallel(n_jobs=2)]: Done  68 tasks      | elapsed:  3.2min\n",
      "[Parallel(n_jobs=2)]: Done  81 tasks      | elapsed:  3.9min\n",
      "[Parallel(n_jobs=2)]: Done  94 tasks      | elapsed:  4.4min\n",
      "[Parallel(n_jobs=2)]: Done 109 tasks      | elapsed:  5.2min\n",
      "[Parallel(n_jobs=2)]: Done 124 tasks      | elapsed:  5.8min\n",
      "[Parallel(n_jobs=2)]: Done 141 tasks      | elapsed:  6.6min\n",
      "[Parallel(n_jobs=2)]: Done 158 tasks      | elapsed:  7.4min\n",
      "[Parallel(n_jobs=2)]: Done 177 tasks      | elapsed:  8.4min\n",
      "[Parallel(n_jobs=2)]: Done 196 tasks      | elapsed:  9.2min\n",
      "[Parallel(n_jobs=2)]: Done 217 tasks      | elapsed: 10.3min\n",
      "[Parallel(n_jobs=2)]: Done 238 tasks      | elapsed: 11.3min\n",
      "[Parallel(n_jobs=2)]: Done 261 tasks      | elapsed: 12.4min\n",
      "[Parallel(n_jobs=2)]: Done 284 tasks      | elapsed: 13.5min\n",
      "[Parallel(n_jobs=2)]: Done 309 tasks      | elapsed: 14.9min\n",
      "[Parallel(n_jobs=2)]: Done 334 tasks      | elapsed: 16.1min\n",
      "[Parallel(n_jobs=2)]: Done 361 tasks      | elapsed: 17.4min\n",
      "[Parallel(n_jobs=2)]: Done 388 tasks      | elapsed: 18.8min\n",
      "[Parallel(n_jobs=2)]: Done 417 tasks      | elapsed: 20.4min\n",
      "[Parallel(n_jobs=2)]: Done 446 tasks      | elapsed: 21.9min\n",
      "[Parallel(n_jobs=2)]: Done 477 tasks      | elapsed: 23.5min\n",
      "[Parallel(n_jobs=2)]: Done 508 tasks      | elapsed: 25.0min\n",
      "[Parallel(n_jobs=2)]: Done 541 tasks      | elapsed: 26.6min\n",
      "[Parallel(n_jobs=2)]: Done 574 tasks      | elapsed: 28.1min\n",
      "[Parallel(n_jobs=2)]: Done 609 tasks      | elapsed: 29.7min\n",
      "[Parallel(n_jobs=2)]: Done 644 tasks      | elapsed: 31.3min\n",
      "[Parallel(n_jobs=2)]: Done 681 tasks      | elapsed: 33.1min\n",
      "[Parallel(n_jobs=2)]: Done 718 tasks      | elapsed: 34.8min\n",
      "[Parallel(n_jobs=2)]: Done 757 tasks      | elapsed: 36.8min\n",
      "[Parallel(n_jobs=2)]: Done 796 tasks      | elapsed: 38.6min\n",
      "[Parallel(n_jobs=2)]: Done 837 tasks      | elapsed: 40.6min\n",
      "[Parallel(n_jobs=2)]: Done 878 tasks      | elapsed: 42.6min\n",
      "[Parallel(n_jobs=2)]: Done 921 tasks      | elapsed: 44.7min\n",
      "[Parallel(n_jobs=2)]: Done 964 tasks      | elapsed: 46.8min\n",
      "[Parallel(n_jobs=2)]: Done 1009 tasks      | elapsed: 49.0min\n",
      "[Parallel(n_jobs=2)]: Done 1054 tasks      | elapsed: 51.2min\n",
      "[Parallel(n_jobs=2)]: Done 1101 tasks      | elapsed: 53.7min\n",
      "[Parallel(n_jobs=2)]: Done 1148 tasks      | elapsed: 56.3min\n",
      "[Parallel(n_jobs=2)]: Done 1197 tasks      | elapsed: 58.9min\n",
      "[Parallel(n_jobs=2)]: Done 1246 tasks      | elapsed: 61.5min\n",
      "[Parallel(n_jobs=2)]: Done 1297 tasks      | elapsed: 64.1min\n",
      "[Parallel(n_jobs=2)]: Done 1348 tasks      | elapsed: 66.9min\n",
      "[Parallel(n_jobs=2)]: Done 1401 tasks      | elapsed: 69.8min\n",
      "[Parallel(n_jobs=2)]: Done 1454 tasks      | elapsed: 72.8min\n",
      "[Parallel(n_jobs=2)]: Done 1509 tasks      | elapsed: 76.1min\n",
      "[Parallel(n_jobs=2)]: Done 1564 tasks      | elapsed: 79.1min\n",
      "[Parallel(n_jobs=2)]: Done 1621 tasks      | elapsed: 82.3min\n",
      "[Parallel(n_jobs=2)]: Done 1678 tasks      | elapsed: 85.3min\n",
      "[Parallel(n_jobs=2)]: Done 1737 tasks      | elapsed: 88.8min\n",
      "[Parallel(n_jobs=2)]: Done 1796 tasks      | elapsed: 92.3min\n",
      "[Parallel(n_jobs=2)]: Done 1857 tasks      | elapsed: 95.6min\n",
      "[Parallel(n_jobs=2)]: Done 1918 tasks      | elapsed: 99.0min\n",
      "[Parallel(n_jobs=2)]: Done 1981 tasks      | elapsed: 102.4min\n",
      "[Parallel(n_jobs=2)]: Done 2044 tasks      | elapsed: 106.2min\n",
      "[Parallel(n_jobs=2)]: Done 2109 tasks      | elapsed: 109.7min\n",
      "[Parallel(n_jobs=2)]: Done 2174 tasks      | elapsed: 113.3min\n",
      "[Parallel(n_jobs=2)]: Done 2241 tasks      | elapsed: 116.7min\n",
      "[Parallel(n_jobs=2)]: Done 2308 tasks      | elapsed: 120.0min\n",
      "[Parallel(n_jobs=2)]: Done 2377 tasks      | elapsed: 123.3min\n",
      "[Parallel(n_jobs=2)]: Done 2446 tasks      | elapsed: 126.7min\n",
      "[Parallel(n_jobs=2)]: Done 2517 tasks      | elapsed: 130.2min\n",
      "[Parallel(n_jobs=2)]: Done 2588 tasks      | elapsed: 133.7min\n",
      "[Parallel(n_jobs=2)]: Done 2661 tasks      | elapsed: 137.6min\n",
      "[Parallel(n_jobs=2)]: Done 2734 tasks      | elapsed: 141.6min\n",
      "[Parallel(n_jobs=2)]: Done 2809 tasks      | elapsed: 145.7min\n",
      "[Parallel(n_jobs=2)]: Done 2884 tasks      | elapsed: 149.6min\n",
      "[Parallel(n_jobs=2)]: Done 2961 tasks      | elapsed: 153.6min\n",
      "[Parallel(n_jobs=2)]: Done 3038 tasks      | elapsed: 157.6min\n",
      "[Parallel(n_jobs=2)]: Done 3117 tasks      | elapsed: 161.6min\n",
      "[Parallel(n_jobs=2)]: Done 3196 tasks      | elapsed: 165.7min\n",
      "[Parallel(n_jobs=2)]: Done 3277 tasks      | elapsed: 169.8min\n",
      "[Parallel(n_jobs=2)]: Done 3358 tasks      | elapsed: 173.9min\n",
      "[Parallel(n_jobs=2)]: Done 3441 tasks      | elapsed: 178.1min\n",
      "[Parallel(n_jobs=2)]: Done 3524 tasks      | elapsed: 182.2min\n",
      "[Parallel(n_jobs=2)]: Done 3609 tasks      | elapsed: 186.5min\n",
      "[Parallel(n_jobs=2)]: Done 3694 tasks      | elapsed: 190.7min\n",
      "[Parallel(n_jobs=2)]: Done 3781 tasks      | elapsed: 195.1min\n",
      "[Parallel(n_jobs=2)]: Done 3868 tasks      | elapsed: 199.4min\n",
      "[Parallel(n_jobs=2)]: Done 3957 tasks      | elapsed: 203.8min\n",
      "[Parallel(n_jobs=2)]: Done 4046 tasks      | elapsed: 208.2min\n",
      "[Parallel(n_jobs=2)]: Done 4104 out of 4104 | elapsed: 211.1min finished\n"
     ]
    }
   ],
   "source": [
    "gs = GridSearchCV(pipeline, grid, scoring='accuracy', n_jobs = 2, verbose = 10, error_score = 0.0)\n",
    "gs.fit(train, y)\n",
    "y_pred = gs.predict(train)\n",
    "\n",
    "\n"
   ]
  },
  {
   "cell_type": "code",
   "execution_count": 16,
   "metadata": {},
   "outputs": [
    {
     "name": "stdout",
     "output_type": "stream",
     "text": [
      "0.8545\n",
      "0.7745\n",
      "{'classifier__C': 0.2, 'classifier__class_weight': None, 'classifier__dual': True, 'classifier__loss': 'squared_hinge', 'classifier__max_iter': 100, 'classifier__penalty': 'l2', 'classifier__tol': 1e-05}\n"
     ]
    }
   ],
   "source": [
    "print(accuracy_score(y, y_pred))\n",
    "print(gs.best_score_)\n",
    "print(gs.best_params_)"
   ]
  },
  {
   "cell_type": "code",
   "execution_count": null,
   "metadata": {},
   "outputs": [],
   "source": [
    "0.8855\n",
    "0.983"
   ]
  },
  {
   "cell_type": "code",
   "execution_count": null,
   "metadata": {},
   "outputs": [],
   "source": [
    "gs.best_params_"
   ]
  },
  {
   "cell_type": "code",
   "execution_count": 17,
   "metadata": {},
   "outputs": [],
   "source": [
    "# Ну и постим все это на каггл. \n",
    "y_kaggle = gs.predict(test)\n",
    "t = pd.DataFrame(y_kaggle).reset_index()\n",
    "t.columns = ['Id', 'y']\n",
    "t.to_csv('kaggle_6.csv', index = False)"
   ]
  },
  {
   "cell_type": "code",
   "execution_count": null,
   "metadata": {},
   "outputs": [],
   "source": []
  }
 ],
 "metadata": {
  "kernelspec": {
   "display_name": "Python 3",
   "language": "python",
   "name": "python3"
  },
  "language_info": {
   "codemirror_mode": {
    "name": "ipython",
    "version": 3
   },
   "file_extension": ".py",
   "mimetype": "text/x-python",
   "name": "python",
   "nbconvert_exporter": "python",
   "pygments_lexer": "ipython3",
   "version": "3.7.5"
  }
 },
 "nbformat": 4,
 "nbformat_minor": 2
}
