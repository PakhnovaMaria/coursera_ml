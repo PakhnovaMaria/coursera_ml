{
 "cells": [
  {
   "cell_type": "code",
   "execution_count": 23,
   "metadata": {},
   "outputs": [],
   "source": [
    "import numpy as np\n",
    "import pandas as pd\n",
    "import nltk\n",
    "from sklearn.utils import shuffle\n",
    "from sklearn.base import TransformerMixin\n",
    "from sklearn.pipeline import Pipeline\n",
    "from sklearn.model_selection import RandomizedSearchCV, cross_val_score\n",
    "from sklearn.feature_extraction.text import TfidfTransformer, CountVectorizer, TfidfVectorizer\n",
    "from sklearn.decomposition import PCA\n",
    "from sklearn.svm import LinearSVC"
   ]
  },
  {
   "cell_type": "code",
   "execution_count": 4,
   "metadata": {},
   "outputs": [],
   "source": [
    "train = pd.read_csv('products_sentiment_train.tsv', names=['text', 'label'], header=0, sep='\\t')"
   ]
  },
  {
   "cell_type": "code",
   "execution_count": 6,
   "metadata": {},
   "outputs": [],
   "source": [
    "test = pd.read_csv('products_sentiment_test.tsv', header=0, sep='\\t').drop('Id', axis=1)"
   ]
  },
  {
   "cell_type": "code",
   "execution_count": 8,
   "metadata": {},
   "outputs": [],
   "source": [
    "train = shuffle(train.append(train.iloc[list(train[train['label'] == 0].index[:500])]), random_state=10)"
   ]
  },
  {
   "cell_type": "code",
   "execution_count": 10,
   "metadata": {},
   "outputs": [],
   "source": [
    "X = train['text'].values\n",
    "y = train['label'].values"
   ]
  },
  {
   "cell_type": "code",
   "execution_count": 11,
   "metadata": {},
   "outputs": [],
   "source": [
    "X_test = test['text'].values"
   ]
  },
  {
   "cell_type": "code",
   "execution_count": 24,
   "metadata": {},
   "outputs": [],
   "source": [
    "class DimensionTransformer(TransformerMixin):\n",
    "    def transform(self, X, y=None, **fit_params):\n",
    "        return X.todense()\n",
    "\n",
    "    def fit_transform(self, X, y=None, **fit_params):\n",
    "        self.fit(X, y, **fit_params)\n",
    "        return self.transform(X)\n",
    "\n",
    "    def fit(self, X, y=None, **fit_params):\n",
    "        return self"
   ]
  },
  {
   "cell_type": "code",
   "execution_count": 13,
   "metadata": {},
   "outputs": [],
   "source": [
    "vectorizer_r = CountVectorizer(ngram_range=(1, 5))\n",
    "X_r = vectorizer_r.fit_transform(X)\n",
    "tfidf_r = TfidfTransformer()\n",
    "freq_r = tfidf_r.fit_transform(X_r)\n",
    "pca = PCA(n_components=2500, svd_solver='full')\n",
    "pca.fit(pd.DataFrame(freq_r.A, columns=vectorizer_r.get_feature_names()))\n",
    "reduced_pd = pca.transform(pd.DataFrame(freq_r.A, columns=vectorizer_r.get_feature_names()))"
   ]
  },
  {
   "cell_type": "code",
   "execution_count": 14,
   "metadata": {},
   "outputs": [
    {
     "name": "stdout",
     "output_type": "stream",
     "text": [
      "LinearSVC + PCA - 0.9106327212020033\n"
     ]
    }
   ],
   "source": [
    "score = cross_val_score(LinearSVC(max_iter=400, loss='hinge', C=1.9, tol=0.001, random_state=777),\n",
    "                      reduced_pd, y, scoring='accuracy', cv=5).mean()\n",
    "print(f\"LinearSVC + PCA - {score}\")"
   ]
  },
  {
   "cell_type": "code",
   "execution_count": 25,
   "metadata": {},
   "outputs": [],
   "source": [
    "\n",
    "svc_pca = Pipeline([\n",
    "            ('vectorizer', CountVectorizer(min_df=1, ngram_range=(1, 5), max_df=0.9, stop_words=None)),\n",
    "            ('transformer', TfidfTransformer()),\n",
    "            ('dense', DimensionTransformer()),\n",
    "            ('pca', PCA(n_components=2500, svd_solver='full')),\n",
    "            ('classifier', LinearSVC(max_iter=400, loss='hinge', C=1.9, tol=0.001, random_state=777))\n",
    "        ])"
   ]
  },
  {
   "cell_type": "code",
   "execution_count": 26,
   "metadata": {},
   "outputs": [
    {
     "data": {
      "text/plain": [
       "Pipeline(memory=None,\n",
       "         steps=[('vectorizer',\n",
       "                 CountVectorizer(analyzer='word', binary=False,\n",
       "                                 decode_error='strict',\n",
       "                                 dtype=<class 'numpy.int64'>, encoding='utf-8',\n",
       "                                 input='content', lowercase=True, max_df=0.9,\n",
       "                                 max_features=None, min_df=1,\n",
       "                                 ngram_range=(1, 5), preprocessor=None,\n",
       "                                 stop_words=None, strip_accents=None,\n",
       "                                 token_pattern='(?u)\\\\b\\\\w\\\\w+\\\\b',\n",
       "                                 tokenizer=None, vocabula...\n",
       "                 <__main__.DimensionTransformer object at 0x1a23c7eb10>),\n",
       "                ('pca',\n",
       "                 PCA(copy=True, iterated_power='auto', n_components=2500,\n",
       "                     random_state=None, svd_solver='full', tol=0.0,\n",
       "                     whiten=False)),\n",
       "                ('classifier',\n",
       "                 LinearSVC(C=1.9, class_weight=None, dual=True,\n",
       "                           fit_intercept=True, intercept_scaling=1,\n",
       "                           loss='hinge', max_iter=400, multi_class='ovr',\n",
       "                           penalty='l2', random_state=777, tol=0.001,\n",
       "                           verbose=0))],\n",
       "         verbose=False)"
      ]
     },
     "execution_count": 26,
     "metadata": {},
     "output_type": "execute_result"
    }
   ],
   "source": [
    "svc_pca.fit(X, y)"
   ]
  },
  {
   "cell_type": "code",
   "execution_count": 27,
   "metadata": {},
   "outputs": [],
   "source": [
    "svc_pca_pred = svc_pca.predict(X_test)"
   ]
  },
  {
   "cell_type": "code",
   "execution_count": 21,
   "metadata": {},
   "outputs": [],
   "source": [
    "with open('svc_pca.csv', 'w') as f:\n",
    "    f.write(pd.DataFrame(pd.Series(map(str, range(0, 500))).str.cat(map(str, svc_pca_pred), sep=','), \n",
    "                                 columns=['Id,y']).to_csv(sep=' ', index=False))"
   ]
  },
  {
   "cell_type": "markdown",
   "metadata": {},
   "source": [
    "![](KaggleScreen.png)"
   ]
  },
  {
   "cell_type": "code",
   "execution_count": null,
   "metadata": {},
   "outputs": [],
   "source": []
  }
 ],
 "metadata": {
  "kernelspec": {
   "display_name": "Python 3",
   "language": "python",
   "name": "python3"
  },
  "language_info": {
   "codemirror_mode": {
    "name": "ipython",
    "version": 3
   },
   "file_extension": ".py",
   "mimetype": "text/x-python",
   "name": "python",
   "nbconvert_exporter": "python",
   "pygments_lexer": "ipython3",
   "version": "3.7.5"
  }
 },
 "nbformat": 4,
 "nbformat_minor": 4
}
