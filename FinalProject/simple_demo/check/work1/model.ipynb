{
 "cells": [
  {
   "cell_type": "code",
   "execution_count": 1,
   "metadata": {},
   "outputs": [],
   "source": [
    "import os\n",
    "import pandas as pd\n",
    "import numpy as np\n",
    "import re\n",
    "from nltk.corpus import stopwords\n",
    "from sklearn.feature_extraction.text import TfidfVectorizer\n",
    "from sklearn.linear_model import LogisticRegression\n",
    "from sklearn.model_selection import cross_val_score\n",
    "from sklearn.pipeline import Pipeline\n",
    "import xml.etree.ElementTree as ET\n",
    "from sklearn.metrics import accuracy_score\n",
    "from joblib import dump\n",
    "\n",
    "import warnings\n",
    "warnings.filterwarnings(\"ignore\")"
   ]
  },
  {
   "cell_type": "markdown",
   "metadata": {},
   "source": [
    "Для обучения классификатора, воспользуемся данными с отзывами на Кинопоиске. Доступны отзывы по 250 лучшим и 100 худшим фильмам в рейтинге Кинопоиска. Датасет я нашел в группе **ODS** в Slack. Ссылки для скачивания\n",
    "\n",
    "- Топ 250\n",
    "https://drive.google.com/open?id=0B7y8Oyhu03y_UkFmTmNvNTMyN2s\n",
    "- Bottom 100\n",
    "https://drive.google.com/open?id=0B7y8Oyhu03y_eWE5bWdObWJRNlU\n",
    "\n",
    "Отзывы представлены в формате *xml*. Поэтому сначала необходимо: получить текст и оценку для каждого отзыва."
   ]
  },
  {
   "cell_type": "code",
   "execution_count": 2,
   "metadata": {},
   "outputs": [],
   "source": [
    "def get_content_from_xml(root):\n",
    "    for i in range(len(root)):\n",
    "        if root[i].tag == 'content':\n",
    "            return root[i].text\n",
    "    return None\n",
    "\n",
    "def get_grade_from_xml(root):\n",
    "    for i in range(len(root)):\n",
    "        if root[i].tag == 'grade3':\n",
    "            return root[i].text\n",
    "    return None"
   ]
  },
  {
   "cell_type": "code",
   "execution_count": 3,
   "metadata": {},
   "outputs": [],
   "source": [
    "def remove_symbols_from_review(review):\n",
    "    return review.replace('\\xa0', ' ').replace('\\n', '').strip().lower()\n",
    "\n",
    "def remove_grade_from_review(review):\n",
    "    return re.sub('\\d{0,1}[\\,\\.]?\\d{1}\\s\\w+\\s\\d{1,2}', '', review)\n",
    "\n",
    "def get_review(root):\n",
    "    review = get_content_from_xml(root)\n",
    "    return remove_grade_from_review(remove_symbols_from_review(review))"
   ]
  },
  {
   "cell_type": "code",
   "execution_count": 4,
   "metadata": {},
   "outputs": [],
   "source": [
    "def make_review_grade(path, limit=None):\n",
    "    if limit is None:\n",
    "        limit = np.inf\n",
    "    films = os.listdir(path)\n",
    "    reviews, grades = [], []\n",
    "\n",
    "    for film in films:\n",
    "        reviews_raw = os.listdir(os.path.join(path, film))\n",
    "        for n, review in enumerate(reviews_raw):\n",
    "            if n > limit:\n",
    "                break\n",
    "            tree = ET.parse(os.path.join(path, film, review))\n",
    "            reviews.append(get_review(tree.getroot()))\n",
    "            grades.append(get_grade_from_xml(tree.getroot()))\n",
    "    return reviews, grades"
   ]
  },
  {
   "cell_type": "code",
   "execution_count": 5,
   "metadata": {},
   "outputs": [],
   "source": [
    "def text_classifier(vectorizer, classifier):\n",
    "    return Pipeline([\n",
    "        (\"vct\", vectorizer),\n",
    "        (\"clf\", classifier)])"
   ]
  },
  {
   "cell_type": "code",
   "execution_count": 6,
   "metadata": {},
   "outputs": [
    {
     "ename": "FileNotFoundError",
     "evalue": "[WinError 3] Системе не удается найти указанный путь: '../data/kinopoisk_bottom100'",
     "output_type": "error",
     "traceback": [
      "\u001b[1;31m---------------------------------------------------------------------------\u001b[0m",
      "\u001b[1;31mFileNotFoundError\u001b[0m                         Traceback (most recent call last)",
      "\u001b[1;32m<ipython-input-6-20d5a5e3a422>\u001b[0m in \u001b[0;36m<module>\u001b[1;34m\u001b[0m\n\u001b[0;32m      2\u001b[0m \u001b[0mpath_neg\u001b[0m \u001b[1;33m=\u001b[0m \u001b[1;34mr'../data/kinopoisk_bottom100'\u001b[0m\u001b[1;33m\u001b[0m\u001b[1;33m\u001b[0m\u001b[0m\n\u001b[0;32m      3\u001b[0m \u001b[1;33m\u001b[0m\u001b[0m\n\u001b[1;32m----> 4\u001b[1;33m \u001b[0mfilm_neg\u001b[0m \u001b[1;33m=\u001b[0m \u001b[0mos\u001b[0m\u001b[1;33m.\u001b[0m\u001b[0mlistdir\u001b[0m\u001b[1;33m(\u001b[0m\u001b[0mpath_neg\u001b[0m\u001b[1;33m)\u001b[0m\u001b[1;33m\u001b[0m\u001b[1;33m\u001b[0m\u001b[0m\n\u001b[0m\u001b[0;32m      5\u001b[0m \u001b[0mfilm_pos\u001b[0m \u001b[1;33m=\u001b[0m \u001b[0mos\u001b[0m\u001b[1;33m.\u001b[0m\u001b[0mlistdir\u001b[0m\u001b[1;33m(\u001b[0m\u001b[0mpath_pos\u001b[0m\u001b[1;33m)\u001b[0m\u001b[1;33m\u001b[0m\u001b[1;33m\u001b[0m\u001b[0m\n",
      "\u001b[1;31mFileNotFoundError\u001b[0m: [WinError 3] Системе не удается найти указанный путь: '../data/kinopoisk_bottom100'"
     ]
    }
   ],
   "source": [
    "path_pos = r'../data/kinopoisk_top250'\n",
    "path_neg = r'../data/kinopoisk_bottom100'\n",
    "\n",
    "film_neg = os.listdir(path_neg)\n",
    "film_pos = os.listdir(path_pos)"
   ]
  },
  {
   "cell_type": "markdown",
   "metadata": {},
   "source": [
    "Получим отзывы по худшим и лучшим фильмам. Так как лучших фильмов больше, то для сбалансированности выборки будем брать по не более 25 отзывов для каждого **лучшего** фильма."
   ]
  },
  {
   "cell_type": "code",
   "execution_count": 7,
   "metadata": {},
   "outputs": [],
   "source": [
    "neg_review, neg_grade = make_review_grade(path_neg)\n",
    "pos_review, pos_grade = make_review_grade(path_pos, 25)"
   ]
  },
  {
   "cell_type": "code",
   "execution_count": 8,
   "metadata": {},
   "outputs": [],
   "source": [
    "texts = pd.DataFrame(columns=['text', 'label'])\n",
    "texts['text'] = np.concatenate((pos_review, neg_review))\n",
    "texts['label'] = np.concatenate((pos_grade, neg_grade))"
   ]
  },
  {
   "cell_type": "code",
   "execution_count": 9,
   "metadata": {},
   "outputs": [
    {
     "data": {
      "text/html": [
       "<div>\n",
       "<style scoped>\n",
       "    .dataframe tbody tr th:only-of-type {\n",
       "        vertical-align: middle;\n",
       "    }\n",
       "\n",
       "    .dataframe tbody tr th {\n",
       "        vertical-align: top;\n",
       "    }\n",
       "\n",
       "    .dataframe thead th {\n",
       "        text-align: right;\n",
       "    }\n",
       "</style>\n",
       "<table border=\"1\" class=\"dataframe\">\n",
       "  <thead>\n",
       "    <tr style=\"text-align: right;\">\n",
       "      <th></th>\n",
       "      <th>text</th>\n",
       "      <th>label</th>\n",
       "    </tr>\n",
       "  </thead>\n",
       "  <tbody>\n",
       "    <tr>\n",
       "      <td>11943</td>\n",
       "      <td>я понимаю, что наша российская версия событий ...</td>\n",
       "      <td>Bad</td>\n",
       "    </tr>\n",
       "    <tr>\n",
       "      <td>11944</td>\n",
       "      <td>я помню, как два года назад харлин заявил огро...</td>\n",
       "      <td>Bad</td>\n",
       "    </tr>\n",
       "    <tr>\n",
       "      <td>11945</td>\n",
       "      <td>информационная война идёт полным ходом господа...</td>\n",
       "      <td>Bad</td>\n",
       "    </tr>\n",
       "    <tr>\n",
       "      <td>11946</td>\n",
       "      <td>не могу понять, как это можно сравнивать с «ол...</td>\n",
       "      <td>Bad</td>\n",
       "    </tr>\n",
       "    <tr>\n",
       "      <td>11947</td>\n",
       "      <td>скажу абсолютно честно, посмотрел все 108 мину...</td>\n",
       "      <td>Bad</td>\n",
       "    </tr>\n",
       "  </tbody>\n",
       "</table>\n",
       "</div>"
      ],
      "text/plain": [
       "                                                    text label\n",
       "11943  я понимаю, что наша российская версия событий ...   Bad\n",
       "11944  я помню, как два года назад харлин заявил огро...   Bad\n",
       "11945  информационная война идёт полным ходом господа...   Bad\n",
       "11946  не могу понять, как это можно сравнивать с «ол...   Bad\n",
       "11947  скажу абсолютно честно, посмотрел все 108 мину...   Bad"
      ]
     },
     "execution_count": 9,
     "metadata": {},
     "output_type": "execute_result"
    }
   ],
   "source": [
    "texts.tail()"
   ]
  },
  {
   "cell_type": "code",
   "execution_count": 10,
   "metadata": {},
   "outputs": [],
   "source": [
    "texts = texts.sample(frac=1).reset_index(drop=True)\n",
    "texts['label'].replace({'Bad': 0, 'Neutral': 1, 'Good': 2}, inplace=True)"
   ]
  },
  {
   "cell_type": "markdown",
   "metadata": {},
   "source": [
    "### TFIDF for Logistic"
   ]
  },
  {
   "cell_type": "markdown",
   "metadata": {},
   "source": [
    "Уберем нейтральные отзывы и разделим выборки на обучение и тест."
   ]
  },
  {
   "cell_type": "code",
   "execution_count": 11,
   "metadata": {},
   "outputs": [],
   "source": [
    "texts_two_class = texts.loc[texts['label']!=1, :].reset_index(drop=True)\n",
    "texts_two_class['label'] /= 2\n",
    "th = 2./3.*len(texts_two_class)\n",
    "X_train, X_test = texts_two_class.loc[:th, 'text'], texts_two_class.loc[th:, 'text']\n",
    "y_train, y_test = texts_two_class.loc[:th, 'label'], texts_two_class.loc[th:, 'label']"
   ]
  },
  {
   "cell_type": "code",
   "execution_count": 12,
   "metadata": {},
   "outputs": [],
   "source": [
    "# Построим классификатор из наилучших гиперпараметров\n",
    "vct = TfidfVectorizer(stop_words=stopwords.words('russian'), analyzer='word', min_df=15, max_df=0.5, ngram_range=(1,2))\n",
    "clf = LogisticRegression(penalty='l2', C=5, max_iter=100)\n",
    "y_pred = text_classifier(vct, clf).fit(X_train, y_train).predict(X_test)"
   ]
  },
  {
   "cell_type": "code",
   "execution_count": 13,
   "metadata": {},
   "outputs": [
    {
     "name": "stdout",
     "output_type": "stream",
     "text": [
      "Точность на тестовой выборке 91.2%\n"
     ]
    }
   ],
   "source": [
    "print('Точность на тестовой выборке %2.1f%%' % (accuracy_score(y_test, y_pred)*100))"
   ]
  },
  {
   "cell_type": "code",
   "execution_count": 14,
   "metadata": {},
   "outputs": [],
   "source": [
    "df = pd.DataFrame(columns=['feature', 'coef'])\n",
    "df['feature'] = vct.get_feature_names()\n",
    "df['coef'] = clf.coef_[0]"
   ]
  },
  {
   "cell_type": "code",
   "execution_count": 15,
   "metadata": {},
   "outputs": [
    {
     "data": {
      "text/html": [
       "<div>\n",
       "<style scoped>\n",
       "    .dataframe tbody tr th:only-of-type {\n",
       "        vertical-align: middle;\n",
       "    }\n",
       "\n",
       "    .dataframe tbody tr th {\n",
       "        vertical-align: top;\n",
       "    }\n",
       "\n",
       "    .dataframe thead th {\n",
       "        text-align: right;\n",
       "    }\n",
       "</style>\n",
       "<table border=\"1\" class=\"dataframe\">\n",
       "  <thead>\n",
       "    <tr style=\"text-align: right;\">\n",
       "      <th></th>\n",
       "      <th>feature</th>\n",
       "      <th>coef</th>\n",
       "      <th>feature</th>\n",
       "      <th>coef</th>\n",
       "    </tr>\n",
       "  </thead>\n",
       "  <tbody>\n",
       "    <tr>\n",
       "      <td>0</td>\n",
       "      <td>создатели</td>\n",
       "      <td>-5.225282</td>\n",
       "      <td>жизни</td>\n",
       "      <td>5.085981</td>\n",
       "    </tr>\n",
       "    <tr>\n",
       "      <td>1</td>\n",
       "      <td>деньги</td>\n",
       "      <td>-5.014431</td>\n",
       "      <td>каждый</td>\n",
       "      <td>4.555520</td>\n",
       "    </tr>\n",
       "    <tr>\n",
       "      <td>2</td>\n",
       "      <td>видимо</td>\n",
       "      <td>-4.768970</td>\n",
       "      <td>жизнь</td>\n",
       "      <td>4.491340</td>\n",
       "    </tr>\n",
       "    <tr>\n",
       "      <td>3</td>\n",
       "      <td>вообще</td>\n",
       "      <td>-4.569020</td>\n",
       "      <td>именно</td>\n",
       "      <td>4.364564</td>\n",
       "    </tr>\n",
       "    <tr>\n",
       "      <td>4</td>\n",
       "      <td>непонятно</td>\n",
       "      <td>-4.279221</td>\n",
       "      <td>несмотря</td>\n",
       "      <td>4.040978</td>\n",
       "    </tr>\n",
       "    <tr>\n",
       "      <td>5</td>\n",
       "      <td>увы</td>\n",
       "      <td>-4.190475</td>\n",
       "      <td>приятно</td>\n",
       "      <td>4.004852</td>\n",
       "    </tr>\n",
       "    <tr>\n",
       "      <td>6</td>\n",
       "      <td>абсолютно</td>\n",
       "      <td>-4.173986</td>\n",
       "      <td>отлично</td>\n",
       "      <td>3.686098</td>\n",
       "    </tr>\n",
       "    <tr>\n",
       "      <td>7</td>\n",
       "      <td>бред</td>\n",
       "      <td>-4.031792</td>\n",
       "      <td>история</td>\n",
       "      <td>3.524001</td>\n",
       "    </tr>\n",
       "    <tr>\n",
       "      <td>8</td>\n",
       "      <td>явно</td>\n",
       "      <td>-3.998521</td>\n",
       "      <td>лучших</td>\n",
       "      <td>3.389302</td>\n",
       "    </tr>\n",
       "    <tr>\n",
       "      <td>9</td>\n",
       "      <td>сожалению</td>\n",
       "      <td>-3.934086</td>\n",
       "      <td>прекрасно</td>\n",
       "      <td>3.265877</td>\n",
       "    </tr>\n",
       "  </tbody>\n",
       "</table>\n",
       "</div>"
      ],
      "text/plain": [
       "     feature      coef    feature      coef\n",
       "0  создатели -5.225282      жизни  5.085981\n",
       "1     деньги -5.014431     каждый  4.555520\n",
       "2     видимо -4.768970      жизнь  4.491340\n",
       "3     вообще -4.569020     именно  4.364564\n",
       "4  непонятно -4.279221   несмотря  4.040978\n",
       "5        увы -4.190475    приятно  4.004852\n",
       "6  абсолютно -4.173986    отлично  3.686098\n",
       "7       бред -4.031792    история  3.524001\n",
       "8       явно -3.998521     лучших  3.389302\n",
       "9  сожалению -3.934086  прекрасно  3.265877"
      ]
     },
     "execution_count": 15,
     "metadata": {},
     "output_type": "execute_result"
    }
   ],
   "source": [
    "# Покажем 10 факторов с наибольшими и наименьшими коэффициентами\n",
    "neg_coef = df.sort_values('coef', ascending=True).head(10).reset_index(drop=True)\n",
    "pos_coef = df.sort_values('coef', ascending=False).head(10).reset_index(drop=True)\n",
    "pd.concat((neg_coef, pos_coef), axis=1)"
   ]
  },
  {
   "cell_type": "code",
   "execution_count": 16,
   "metadata": {},
   "outputs": [
    {
     "data": {
      "text/plain": [
       "array([[0.79706835, 0.20293165],\n",
       "       [0.45950278, 0.54049722],\n",
       "       [0.24898411, 0.75101589],\n",
       "       [0.27605876, 0.72394124],\n",
       "       [0.09136043, 0.90863957],\n",
       "       [0.04733327, 0.95266673],\n",
       "       [0.00824282, 0.99175718]])"
      ]
     },
     "execution_count": 16,
     "metadata": {},
     "output_type": "execute_result"
    }
   ],
   "source": [
    "# Попробуем предсказать некоторые простые отзывы\n",
    "text_classifier(vct, clf).predict_proba(['плохой фильм', \n",
    "                                         'дешево снято',\n",
    "                                         'не очень',\n",
    "                                         'неплохой',\n",
    "                                         'может посмотрю еще раз', \n",
    "                                         'фильм хороший, но концовка затянута',\n",
    "                                         'отлично'])"
   ]
  },
  {
   "cell_type": "code",
   "execution_count": 17,
   "metadata": {},
   "outputs": [
    {
     "data": {
      "text/plain": [
       "['../model/TfidfVectorizer.joblib']"
      ]
     },
     "execution_count": 17,
     "metadata": {},
     "output_type": "execute_result"
    }
   ],
   "source": [
    "# Сохраним объекты модели\n",
    "dump(clf, '../model/LogisticRegression.joblib')\n",
    "dump(vct, '../model/TfidfVectorizer.joblib')"
   ]
  },
  {
   "cell_type": "code",
   "execution_count": null,
   "metadata": {},
   "outputs": [],
   "source": []
  }
 ],
 "metadata": {
  "kernelspec": {
   "display_name": "Python 3",
   "language": "python",
   "name": "python3"
  },
  "language_info": {
   "codemirror_mode": {
    "name": "ipython",
    "version": 3
   },
   "file_extension": ".py",
   "mimetype": "text/x-python",
   "name": "python",
   "nbconvert_exporter": "python",
   "pygments_lexer": "ipython3",
   "version": "3.7.5"
  }
 },
 "nbformat": 4,
 "nbformat_minor": 2
}
